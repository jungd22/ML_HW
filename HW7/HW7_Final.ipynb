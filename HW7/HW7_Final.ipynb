{
 "cells": [
  {
   "cell_type": "markdown",
   "metadata": {},
   "source": [
    "# Homework 7: Group 1\n",
    "#### KNN"
   ]
  },
  {
   "cell_type": "markdown",
   "metadata": {},
   "source": [
    "David Jung, Ryan Voges, Emily Blake, Spencer Powell, Abraham Alhomadi"
   ]
  },
  {
   "cell_type": "markdown",
   "metadata": {},
   "source": [
    "In this exercise I want you to apply KNN regression model to the bikeshare data set which is available on the GitHub folder for HW7. The data are 17379 observations of hourly counts from 2011 to 2012 for bike rides (rentals) from the Capital Bikeshare system in Washington DC. It was originally compiled by Fanaee and Gama in ‘Event labeling combining ensemble detectors and background knowledge’ (2013)."
   ]
  },
  {
   "cell_type": "markdown",
   "metadata": {},
   "source": [
    "You will be qualified to get full mark if you beat the following performance metrics: \n",
    "\n",
    "Question 1:        RMSE_test = 120\n",
    "\n",
    "Question 2:   error_rate_test = 0.05 when threshold =0.5"
   ]
  },
  {
   "cell_type": "code",
   "execution_count": 1,
   "metadata": {},
   "outputs": [],
   "source": [
    "import numpy as np\n",
    "import pandas as pd\n",
    "import matplotlib.pyplot as plt\n",
    "import seaborn as sns\n",
    "from sklearn.linear_model import LinearRegression\n",
    "import statsmodels.api as sm\n",
    "sns.set()\n",
    "import warnings\n",
    "warnings.filterwarnings('ignore')"
   ]
  },
  {
   "cell_type": "code",
   "execution_count": 2,
   "metadata": {},
   "outputs": [],
   "source": [
    "rand_state = 1000"
   ]
  },
  {
   "cell_type": "markdown",
   "metadata": {},
   "source": [
    "### Question 1: KNN Regression (45 points)\n",
    "\n",
    "Import the bikeshare.csv as a data frame and name it as df. bikeshare.csv contains:"
   ]
  },
  {
   "cell_type": "code",
   "execution_count": 3,
   "metadata": {},
   "outputs": [],
   "source": [
    "df = pd.read_csv(\"bikeshare.csv\")"
   ]
  },
  {
   "cell_type": "code",
   "execution_count": 4,
   "metadata": {},
   "outputs": [
    {
     "data": {
      "text/html": [
       "<div>\n",
       "<style scoped>\n",
       "    .dataframe tbody tr th:only-of-type {\n",
       "        vertical-align: middle;\n",
       "    }\n",
       "\n",
       "    .dataframe tbody tr th {\n",
       "        vertical-align: top;\n",
       "    }\n",
       "\n",
       "    .dataframe thead th {\n",
       "        text-align: right;\n",
       "    }\n",
       "</style>\n",
       "<table border=\"1\" class=\"dataframe\">\n",
       "  <thead>\n",
       "    <tr style=\"text-align: right;\">\n",
       "      <th></th>\n",
       "      <th>season</th>\n",
       "      <th>yr</th>\n",
       "      <th>mnth</th>\n",
       "      <th>hr</th>\n",
       "      <th>holiday</th>\n",
       "      <th>weekday</th>\n",
       "      <th>notbizday</th>\n",
       "      <th>weathersit</th>\n",
       "      <th>temp</th>\n",
       "      <th>hum</th>\n",
       "      <th>windspeed</th>\n",
       "      <th>dteday</th>\n",
       "      <th>cnt</th>\n",
       "    </tr>\n",
       "  </thead>\n",
       "  <tbody>\n",
       "    <tr>\n",
       "      <th>0</th>\n",
       "      <td>1</td>\n",
       "      <td>0</td>\n",
       "      <td>1</td>\n",
       "      <td>0</td>\n",
       "      <td>0</td>\n",
       "      <td>6</td>\n",
       "      <td>1</td>\n",
       "      <td>1</td>\n",
       "      <td>-1.334609</td>\n",
       "      <td>0.947345</td>\n",
       "      <td>-1.553844</td>\n",
       "      <td>2011-01-01</td>\n",
       "      <td>16</td>\n",
       "    </tr>\n",
       "    <tr>\n",
       "      <th>1</th>\n",
       "      <td>1</td>\n",
       "      <td>0</td>\n",
       "      <td>1</td>\n",
       "      <td>1</td>\n",
       "      <td>0</td>\n",
       "      <td>6</td>\n",
       "      <td>1</td>\n",
       "      <td>1</td>\n",
       "      <td>-1.438475</td>\n",
       "      <td>0.895513</td>\n",
       "      <td>-1.553844</td>\n",
       "      <td>2011-01-01</td>\n",
       "      <td>40</td>\n",
       "    </tr>\n",
       "    <tr>\n",
       "      <th>2</th>\n",
       "      <td>1</td>\n",
       "      <td>0</td>\n",
       "      <td>1</td>\n",
       "      <td>2</td>\n",
       "      <td>0</td>\n",
       "      <td>6</td>\n",
       "      <td>1</td>\n",
       "      <td>1</td>\n",
       "      <td>-1.438475</td>\n",
       "      <td>0.895513</td>\n",
       "      <td>-1.553844</td>\n",
       "      <td>2011-01-01</td>\n",
       "      <td>32</td>\n",
       "    </tr>\n",
       "    <tr>\n",
       "      <th>3</th>\n",
       "      <td>1</td>\n",
       "      <td>0</td>\n",
       "      <td>1</td>\n",
       "      <td>3</td>\n",
       "      <td>0</td>\n",
       "      <td>6</td>\n",
       "      <td>1</td>\n",
       "      <td>1</td>\n",
       "      <td>-1.334609</td>\n",
       "      <td>0.636351</td>\n",
       "      <td>-1.553844</td>\n",
       "      <td>2011-01-01</td>\n",
       "      <td>13</td>\n",
       "    </tr>\n",
       "    <tr>\n",
       "      <th>4</th>\n",
       "      <td>1</td>\n",
       "      <td>0</td>\n",
       "      <td>1</td>\n",
       "      <td>4</td>\n",
       "      <td>0</td>\n",
       "      <td>6</td>\n",
       "      <td>1</td>\n",
       "      <td>1</td>\n",
       "      <td>-1.334609</td>\n",
       "      <td>0.636351</td>\n",
       "      <td>-1.553844</td>\n",
       "      <td>2011-01-01</td>\n",
       "      <td>1</td>\n",
       "    </tr>\n",
       "    <tr>\n",
       "      <th>5</th>\n",
       "      <td>1</td>\n",
       "      <td>0</td>\n",
       "      <td>1</td>\n",
       "      <td>5</td>\n",
       "      <td>0</td>\n",
       "      <td>6</td>\n",
       "      <td>1</td>\n",
       "      <td>2</td>\n",
       "      <td>-1.334609</td>\n",
       "      <td>0.636351</td>\n",
       "      <td>-0.821460</td>\n",
       "      <td>2011-01-01</td>\n",
       "      <td>1</td>\n",
       "    </tr>\n",
       "    <tr>\n",
       "      <th>6</th>\n",
       "      <td>1</td>\n",
       "      <td>0</td>\n",
       "      <td>1</td>\n",
       "      <td>6</td>\n",
       "      <td>0</td>\n",
       "      <td>6</td>\n",
       "      <td>1</td>\n",
       "      <td>1</td>\n",
       "      <td>-1.438475</td>\n",
       "      <td>0.895513</td>\n",
       "      <td>-1.553844</td>\n",
       "      <td>2011-01-01</td>\n",
       "      <td>2</td>\n",
       "    </tr>\n",
       "    <tr>\n",
       "      <th>7</th>\n",
       "      <td>1</td>\n",
       "      <td>0</td>\n",
       "      <td>1</td>\n",
       "      <td>7</td>\n",
       "      <td>0</td>\n",
       "      <td>6</td>\n",
       "      <td>1</td>\n",
       "      <td>1</td>\n",
       "      <td>-1.542341</td>\n",
       "      <td>1.206507</td>\n",
       "      <td>-1.553844</td>\n",
       "      <td>2011-01-01</td>\n",
       "      <td>3</td>\n",
       "    </tr>\n",
       "    <tr>\n",
       "      <th>8</th>\n",
       "      <td>1</td>\n",
       "      <td>0</td>\n",
       "      <td>1</td>\n",
       "      <td>8</td>\n",
       "      <td>0</td>\n",
       "      <td>6</td>\n",
       "      <td>1</td>\n",
       "      <td>1</td>\n",
       "      <td>-1.334609</td>\n",
       "      <td>0.636351</td>\n",
       "      <td>-1.553844</td>\n",
       "      <td>2011-01-01</td>\n",
       "      <td>8</td>\n",
       "    </tr>\n",
       "    <tr>\n",
       "      <th>9</th>\n",
       "      <td>1</td>\n",
       "      <td>0</td>\n",
       "      <td>1</td>\n",
       "      <td>9</td>\n",
       "      <td>0</td>\n",
       "      <td>6</td>\n",
       "      <td>1</td>\n",
       "      <td>1</td>\n",
       "      <td>-0.919146</td>\n",
       "      <td>0.688184</td>\n",
       "      <td>-1.553844</td>\n",
       "      <td>2011-01-01</td>\n",
       "      <td>14</td>\n",
       "    </tr>\n",
       "  </tbody>\n",
       "</table>\n",
       "</div>"
      ],
      "text/plain": [
       "   season  yr  mnth  hr  holiday  weekday  notbizday  weathersit      temp  \\\n",
       "0       1   0     1   0        0        6          1           1 -1.334609   \n",
       "1       1   0     1   1        0        6          1           1 -1.438475   \n",
       "2       1   0     1   2        0        6          1           1 -1.438475   \n",
       "3       1   0     1   3        0        6          1           1 -1.334609   \n",
       "4       1   0     1   4        0        6          1           1 -1.334609   \n",
       "5       1   0     1   5        0        6          1           2 -1.334609   \n",
       "6       1   0     1   6        0        6          1           1 -1.438475   \n",
       "7       1   0     1   7        0        6          1           1 -1.542341   \n",
       "8       1   0     1   8        0        6          1           1 -1.334609   \n",
       "9       1   0     1   9        0        6          1           1 -0.919146   \n",
       "\n",
       "        hum  windspeed      dteday  cnt  \n",
       "0  0.947345  -1.553844  2011-01-01   16  \n",
       "1  0.895513  -1.553844  2011-01-01   40  \n",
       "2  0.895513  -1.553844  2011-01-01   32  \n",
       "3  0.636351  -1.553844  2011-01-01   13  \n",
       "4  0.636351  -1.553844  2011-01-01    1  \n",
       "5  0.636351  -0.821460  2011-01-01    1  \n",
       "6  0.895513  -1.553844  2011-01-01    2  \n",
       "7  1.206507  -1.553844  2011-01-01    3  \n",
       "8  0.636351  -1.553844  2011-01-01    8  \n",
       "9  0.688184  -1.553844  2011-01-01   14  "
      ]
     },
     "execution_count": 4,
     "metadata": {},
     "output_type": "execute_result"
    }
   ],
   "source": [
    "df.head(10)"
   ]
  },
  {
   "cell_type": "code",
   "execution_count": 5,
   "metadata": {},
   "outputs": [
    {
     "name": "stdout",
     "output_type": "stream",
     "text": [
      "season 4\n",
      "yr 2\n",
      "mnth 12\n",
      "hr 24\n",
      "holiday 2\n",
      "weekday 7\n",
      "notbizday 2\n",
      "weathersit 4\n",
      "temp 50\n",
      "hum 89\n",
      "windspeed 30\n",
      "dteday 731\n",
      "cnt 869\n"
     ]
    }
   ],
   "source": [
    "for col in df.columns:\n",
    "    print(col, df[col].nunique())"
   ]
  },
  {
   "cell_type": "code",
   "execution_count": 6,
   "metadata": {},
   "outputs": [
    {
     "name": "stdout",
     "output_type": "stream",
     "text": [
      "<class 'pandas.core.frame.DataFrame'>\n",
      "RangeIndex: 17379 entries, 0 to 17378\n",
      "Data columns (total 13 columns):\n",
      " #   Column      Non-Null Count  Dtype  \n",
      "---  ------      --------------  -----  \n",
      " 0   season      17379 non-null  int64  \n",
      " 1   yr          17379 non-null  int64  \n",
      " 2   mnth        17379 non-null  int64  \n",
      " 3   hr          17379 non-null  int64  \n",
      " 4   holiday     17379 non-null  int64  \n",
      " 5   weekday     17379 non-null  int64  \n",
      " 6   notbizday   17379 non-null  int64  \n",
      " 7   weathersit  17379 non-null  int64  \n",
      " 8   temp        17379 non-null  float64\n",
      " 9   hum         17379 non-null  float64\n",
      " 10  windspeed   17379 non-null  float64\n",
      " 11  dteday      17379 non-null  object \n",
      " 12  cnt         17379 non-null  int64  \n",
      "dtypes: float64(3), int64(9), object(1)\n",
      "memory usage: 1.7+ MB\n"
     ]
    }
   ],
   "source": [
    "df.info()"
   ]
  },
  {
   "cell_type": "code",
   "execution_count": 7,
   "metadata": {},
   "outputs": [],
   "source": [
    "dummies = [\"mnth\", \"hr\", \"weathersit\"]"
   ]
  },
  {
   "cell_type": "code",
   "execution_count": 8,
   "metadata": {},
   "outputs": [],
   "source": [
    "df = pd.get_dummies(df, drop_first = True, columns = dummies)"
   ]
  },
  {
   "cell_type": "code",
   "execution_count": 9,
   "metadata": {},
   "outputs": [
    {
     "name": "stdout",
     "output_type": "stream",
     "text": [
      "<class 'pandas.core.frame.DataFrame'>\n",
      "RangeIndex: 17379 entries, 0 to 17378\n",
      "Data columns (total 47 columns):\n",
      " #   Column        Non-Null Count  Dtype  \n",
      "---  ------        --------------  -----  \n",
      " 0   season        17379 non-null  int64  \n",
      " 1   yr            17379 non-null  int64  \n",
      " 2   holiday       17379 non-null  int64  \n",
      " 3   weekday       17379 non-null  int64  \n",
      " 4   notbizday     17379 non-null  int64  \n",
      " 5   temp          17379 non-null  float64\n",
      " 6   hum           17379 non-null  float64\n",
      " 7   windspeed     17379 non-null  float64\n",
      " 8   dteday        17379 non-null  object \n",
      " 9   cnt           17379 non-null  int64  \n",
      " 10  mnth_2        17379 non-null  uint8  \n",
      " 11  mnth_3        17379 non-null  uint8  \n",
      " 12  mnth_4        17379 non-null  uint8  \n",
      " 13  mnth_5        17379 non-null  uint8  \n",
      " 14  mnth_6        17379 non-null  uint8  \n",
      " 15  mnth_7        17379 non-null  uint8  \n",
      " 16  mnth_8        17379 non-null  uint8  \n",
      " 17  mnth_9        17379 non-null  uint8  \n",
      " 18  mnth_10       17379 non-null  uint8  \n",
      " 19  mnth_11       17379 non-null  uint8  \n",
      " 20  mnth_12       17379 non-null  uint8  \n",
      " 21  hr_1          17379 non-null  uint8  \n",
      " 22  hr_2          17379 non-null  uint8  \n",
      " 23  hr_3          17379 non-null  uint8  \n",
      " 24  hr_4          17379 non-null  uint8  \n",
      " 25  hr_5          17379 non-null  uint8  \n",
      " 26  hr_6          17379 non-null  uint8  \n",
      " 27  hr_7          17379 non-null  uint8  \n",
      " 28  hr_8          17379 non-null  uint8  \n",
      " 29  hr_9          17379 non-null  uint8  \n",
      " 30  hr_10         17379 non-null  uint8  \n",
      " 31  hr_11         17379 non-null  uint8  \n",
      " 32  hr_12         17379 non-null  uint8  \n",
      " 33  hr_13         17379 non-null  uint8  \n",
      " 34  hr_14         17379 non-null  uint8  \n",
      " 35  hr_15         17379 non-null  uint8  \n",
      " 36  hr_16         17379 non-null  uint8  \n",
      " 37  hr_17         17379 non-null  uint8  \n",
      " 38  hr_18         17379 non-null  uint8  \n",
      " 39  hr_19         17379 non-null  uint8  \n",
      " 40  hr_20         17379 non-null  uint8  \n",
      " 41  hr_21         17379 non-null  uint8  \n",
      " 42  hr_22         17379 non-null  uint8  \n",
      " 43  hr_23         17379 non-null  uint8  \n",
      " 44  weathersit_2  17379 non-null  uint8  \n",
      " 45  weathersit_3  17379 non-null  uint8  \n",
      " 46  weathersit_4  17379 non-null  uint8  \n",
      "dtypes: float64(3), int64(6), object(1), uint8(37)\n",
      "memory usage: 1.9+ MB\n"
     ]
    }
   ],
   "source": [
    "df.info()"
   ]
  },
  {
   "cell_type": "markdown",
   "metadata": {},
   "source": [
    "1. Drop the dteday variable and then define your feature space and target variables. Split the data into test (20%) and train set (80%) "
   ]
  },
  {
   "cell_type": "code",
   "execution_count": 10,
   "metadata": {},
   "outputs": [],
   "source": [
    "df.drop(\"dteday\", axis=1, inplace = True)"
   ]
  },
  {
   "cell_type": "code",
   "execution_count": 11,
   "metadata": {},
   "outputs": [],
   "source": [
    "# Defining our target variable and the features and splitting the dataset into train and test:\n",
    "y = df['cnt']\n",
    "X = df.drop('cnt', axis=1)\n",
    "\n",
    "from sklearn.model_selection import train_test_split\n",
    "X_train, X_test, y_train, y_test = train_test_split (X, y, test_size=0.2, random_state=rand_state)"
   ]
  },
  {
   "cell_type": "code",
   "execution_count": 12,
   "metadata": {},
   "outputs": [
    {
     "data": {
      "text/html": [
       "<div>\n",
       "<style scoped>\n",
       "    .dataframe tbody tr th:only-of-type {\n",
       "        vertical-align: middle;\n",
       "    }\n",
       "\n",
       "    .dataframe tbody tr th {\n",
       "        vertical-align: top;\n",
       "    }\n",
       "\n",
       "    .dataframe thead th {\n",
       "        text-align: right;\n",
       "    }\n",
       "</style>\n",
       "<table border=\"1\" class=\"dataframe\">\n",
       "  <thead>\n",
       "    <tr style=\"text-align: right;\">\n",
       "      <th></th>\n",
       "      <th>season</th>\n",
       "      <th>yr</th>\n",
       "      <th>holiday</th>\n",
       "      <th>weekday</th>\n",
       "      <th>notbizday</th>\n",
       "      <th>temp</th>\n",
       "      <th>hum</th>\n",
       "      <th>windspeed</th>\n",
       "      <th>mnth_2</th>\n",
       "      <th>mnth_3</th>\n",
       "      <th>...</th>\n",
       "      <th>hr_17</th>\n",
       "      <th>hr_18</th>\n",
       "      <th>hr_19</th>\n",
       "      <th>hr_20</th>\n",
       "      <th>hr_21</th>\n",
       "      <th>hr_22</th>\n",
       "      <th>hr_23</th>\n",
       "      <th>weathersit_2</th>\n",
       "      <th>weathersit_3</th>\n",
       "      <th>weathersit_4</th>\n",
       "    </tr>\n",
       "  </thead>\n",
       "  <tbody>\n",
       "    <tr>\n",
       "      <th>2136</th>\n",
       "      <td>2</td>\n",
       "      <td>0</td>\n",
       "      <td>0</td>\n",
       "      <td>0</td>\n",
       "      <td>1</td>\n",
       "      <td>-0.399817</td>\n",
       "      <td>-0.970450</td>\n",
       "      <td>0.276298</td>\n",
       "      <td>0</td>\n",
       "      <td>0</td>\n",
       "      <td>...</td>\n",
       "      <td>0</td>\n",
       "      <td>0</td>\n",
       "      <td>0</td>\n",
       "      <td>0</td>\n",
       "      <td>1</td>\n",
       "      <td>0</td>\n",
       "      <td>0</td>\n",
       "      <td>1</td>\n",
       "      <td>0</td>\n",
       "      <td>0</td>\n",
       "    </tr>\n",
       "    <tr>\n",
       "      <th>5466</th>\n",
       "      <td>3</td>\n",
       "      <td>0</td>\n",
       "      <td>0</td>\n",
       "      <td>6</td>\n",
       "      <td>1</td>\n",
       "      <td>1.573634</td>\n",
       "      <td>-0.866786</td>\n",
       "      <td>0.031898</td>\n",
       "      <td>0</td>\n",
       "      <td>0</td>\n",
       "      <td>...</td>\n",
       "      <td>0</td>\n",
       "      <td>0</td>\n",
       "      <td>0</td>\n",
       "      <td>0</td>\n",
       "      <td>0</td>\n",
       "      <td>0</td>\n",
       "      <td>0</td>\n",
       "      <td>0</td>\n",
       "      <td>0</td>\n",
       "      <td>0</td>\n",
       "    </tr>\n",
       "    <tr>\n",
       "      <th>8770</th>\n",
       "      <td>1</td>\n",
       "      <td>1</td>\n",
       "      <td>0</td>\n",
       "      <td>5</td>\n",
       "      <td>0</td>\n",
       "      <td>-1.438475</td>\n",
       "      <td>0.532687</td>\n",
       "      <td>-0.699669</td>\n",
       "      <td>0</td>\n",
       "      <td>0</td>\n",
       "      <td>...</td>\n",
       "      <td>0</td>\n",
       "      <td>0</td>\n",
       "      <td>0</td>\n",
       "      <td>0</td>\n",
       "      <td>0</td>\n",
       "      <td>0</td>\n",
       "      <td>0</td>\n",
       "      <td>1</td>\n",
       "      <td>0</td>\n",
       "      <td>0</td>\n",
       "    </tr>\n",
       "    <tr>\n",
       "      <th>14674</th>\n",
       "      <td>3</td>\n",
       "      <td>1</td>\n",
       "      <td>0</td>\n",
       "      <td>6</td>\n",
       "      <td>1</td>\n",
       "      <td>0.327244</td>\n",
       "      <td>1.310171</td>\n",
       "      <td>0.519881</td>\n",
       "      <td>0</td>\n",
       "      <td>0</td>\n",
       "      <td>...</td>\n",
       "      <td>0</td>\n",
       "      <td>0</td>\n",
       "      <td>0</td>\n",
       "      <td>0</td>\n",
       "      <td>0</td>\n",
       "      <td>0</td>\n",
       "      <td>0</td>\n",
       "      <td>0</td>\n",
       "      <td>1</td>\n",
       "      <td>0</td>\n",
       "    </tr>\n",
       "    <tr>\n",
       "      <th>15708</th>\n",
       "      <td>4</td>\n",
       "      <td>1</td>\n",
       "      <td>0</td>\n",
       "      <td>0</td>\n",
       "      <td>1</td>\n",
       "      <td>0.119512</td>\n",
       "      <td>-1.229612</td>\n",
       "      <td>0.519881</td>\n",
       "      <td>0</td>\n",
       "      <td>0</td>\n",
       "      <td>...</td>\n",
       "      <td>1</td>\n",
       "      <td>0</td>\n",
       "      <td>0</td>\n",
       "      <td>0</td>\n",
       "      <td>0</td>\n",
       "      <td>0</td>\n",
       "      <td>0</td>\n",
       "      <td>0</td>\n",
       "      <td>0</td>\n",
       "      <td>0</td>\n",
       "    </tr>\n",
       "  </tbody>\n",
       "</table>\n",
       "<p>5 rows × 45 columns</p>\n",
       "</div>"
      ],
      "text/plain": [
       "       season  yr  holiday  weekday  notbizday      temp       hum  windspeed  \\\n",
       "2136        2   0        0        0          1 -0.399817 -0.970450   0.276298   \n",
       "5466        3   0        0        6          1  1.573634 -0.866786   0.031898   \n",
       "8770        1   1        0        5          0 -1.438475  0.532687  -0.699669   \n",
       "14674       3   1        0        6          1  0.327244  1.310171   0.519881   \n",
       "15708       4   1        0        0          1  0.119512 -1.229612   0.519881   \n",
       "\n",
       "       mnth_2  mnth_3  ...  hr_17  hr_18  hr_19  hr_20  hr_21  hr_22  hr_23  \\\n",
       "2136        0       0  ...      0      0      0      0      1      0      0   \n",
       "5466        0       0  ...      0      0      0      0      0      0      0   \n",
       "8770        0       0  ...      0      0      0      0      0      0      0   \n",
       "14674       0       0  ...      0      0      0      0      0      0      0   \n",
       "15708       0       0  ...      1      0      0      0      0      0      0   \n",
       "\n",
       "       weathersit_2  weathersit_3  weathersit_4  \n",
       "2136              1             0             0  \n",
       "5466              0             0             0  \n",
       "8770              1             0             0  \n",
       "14674             0             1             0  \n",
       "15708             0             0             0  \n",
       "\n",
       "[5 rows x 45 columns]"
      ]
     },
     "execution_count": 12,
     "metadata": {},
     "output_type": "execute_result"
    }
   ],
   "source": [
    "X_train.head()"
   ]
  },
  {
   "cell_type": "markdown",
   "metadata": {},
   "source": [
    "2. From sklearn.neighbors import the relevant function for KNN regression. Do the followings: (25 points)\n",
    "    1. Train all the model with the default features. (5 points)\n",
    "    2.Make predictions on the test set and save them as y_hat (5 points)\n",
    "    3. Construct a data frame named df_predictions with 2 columns. y_test, and y_hat  from previous part (5 points)\n",
    "    4. Visualize actual vs predicted counts in the test set using an scatterplot. Are you visually satisfied with the regression model?\n",
    "    5. Report the RMSE_test for the KNN regression model."
   ]
  },
  {
   "cell_type": "code",
   "execution_count": 13,
   "metadata": {},
   "outputs": [],
   "source": [
    "from sklearn.neighbors import KNeighborsRegressor"
   ]
  },
  {
   "cell_type": "code",
   "execution_count": 14,
   "metadata": {},
   "outputs": [
    {
     "data": {
      "text/plain": [
       "KNeighborsRegressor()"
      ]
     },
     "execution_count": 14,
     "metadata": {},
     "output_type": "execute_result"
    }
   ],
   "source": [
    "KNN_regression = KNeighborsRegressor(n_neighbors=5)\n",
    "KNN_regression.fit(X_train, y_train)"
   ]
  },
  {
   "cell_type": "code",
   "execution_count": 15,
   "metadata": {},
   "outputs": [],
   "source": [
    "# Predicting the Test set results\n",
    "y_hat = KNN_regression.predict(X_test)"
   ]
  },
  {
   "cell_type": "code",
   "execution_count": 16,
   "metadata": {},
   "outputs": [
    {
     "data": {
      "text/html": [
       "<div>\n",
       "<style scoped>\n",
       "    .dataframe tbody tr th:only-of-type {\n",
       "        vertical-align: middle;\n",
       "    }\n",
       "\n",
       "    .dataframe tbody tr th {\n",
       "        vertical-align: top;\n",
       "    }\n",
       "\n",
       "    .dataframe thead th {\n",
       "        text-align: right;\n",
       "    }\n",
       "</style>\n",
       "<table border=\"1\" class=\"dataframe\">\n",
       "  <thead>\n",
       "    <tr style=\"text-align: right;\">\n",
       "      <th></th>\n",
       "      <th>y_test</th>\n",
       "      <th>y_hat</th>\n",
       "    </tr>\n",
       "  </thead>\n",
       "  <tbody>\n",
       "    <tr>\n",
       "      <th>4495</th>\n",
       "      <td>26</td>\n",
       "      <td>34.8</td>\n",
       "    </tr>\n",
       "    <tr>\n",
       "      <th>4418</th>\n",
       "      <td>47</td>\n",
       "      <td>90.4</td>\n",
       "    </tr>\n",
       "    <tr>\n",
       "      <th>7141</th>\n",
       "      <td>11</td>\n",
       "      <td>25.2</td>\n",
       "    </tr>\n",
       "    <tr>\n",
       "      <th>14765</th>\n",
       "      <td>205</td>\n",
       "      <td>161.6</td>\n",
       "    </tr>\n",
       "    <tr>\n",
       "      <th>16541</th>\n",
       "      <td>65</td>\n",
       "      <td>32.8</td>\n",
       "    </tr>\n",
       "    <tr>\n",
       "      <th>...</th>\n",
       "      <td>...</td>\n",
       "      <td>...</td>\n",
       "    </tr>\n",
       "    <tr>\n",
       "      <th>12359</th>\n",
       "      <td>8</td>\n",
       "      <td>24.8</td>\n",
       "    </tr>\n",
       "    <tr>\n",
       "      <th>12530</th>\n",
       "      <td>503</td>\n",
       "      <td>269.6</td>\n",
       "    </tr>\n",
       "    <tr>\n",
       "      <th>11339</th>\n",
       "      <td>36</td>\n",
       "      <td>31.2</td>\n",
       "    </tr>\n",
       "    <tr>\n",
       "      <th>14793</th>\n",
       "      <td>274</td>\n",
       "      <td>340.6</td>\n",
       "    </tr>\n",
       "    <tr>\n",
       "      <th>10538</th>\n",
       "      <td>20</td>\n",
       "      <td>121.0</td>\n",
       "    </tr>\n",
       "  </tbody>\n",
       "</table>\n",
       "<p>3476 rows × 2 columns</p>\n",
       "</div>"
      ],
      "text/plain": [
       "       y_test  y_hat\n",
       "4495       26   34.8\n",
       "4418       47   90.4\n",
       "7141       11   25.2\n",
       "14765     205  161.6\n",
       "16541      65   32.8\n",
       "...       ...    ...\n",
       "12359       8   24.8\n",
       "12530     503  269.6\n",
       "11339      36   31.2\n",
       "14793     274  340.6\n",
       "10538      20  121.0\n",
       "\n",
       "[3476 rows x 2 columns]"
      ]
     },
     "execution_count": 16,
     "metadata": {},
     "output_type": "execute_result"
    }
   ],
   "source": [
    "df_predictions = pd.DataFrame({'y_test':y_test, 'y_hat':y_hat})\n",
    "df_predictions"
   ]
  },
  {
   "cell_type": "code",
   "execution_count": 17,
   "metadata": {},
   "outputs": [
    {
     "data": {
      "image/png": "[encoded data removed]",
      "text/plain": [
       "<Figure size 432x288 with 1 Axes>"
      ]
     },
     "metadata": {},
     "output_type": "display_data"
    }
   ],
   "source": [
    "sns.scatterplot(x=y_test, y=y_hat, alpha=0.6)\n",
    "sns.lineplot(y_test, y_test)\n",
    "\n",
    "plt.xlabel('Actual Total Bikes Rented', fontsize=14)\n",
    "plt.ylabel('Prediced  Total Bikes Rented', fontsize=14)\n",
    "plt.title('Actual vs Predicted  Count (test set)', fontsize=17)\n",
    "plt.show()"
   ]
  },
  {
   "cell_type": "code",
   "execution_count": 18,
   "metadata": {},
   "outputs": [
    {
     "data": {
      "text/plain": [
       "9772.36"
      ]
     },
     "execution_count": 18,
     "metadata": {},
     "output_type": "execute_result"
    }
   ],
   "source": [
    "MSE_test = round(np.mean(np.square(y_test - y_hat)),2)\n",
    "MSE_test"
   ]
  },
  {
   "cell_type": "code",
   "execution_count": 19,
   "metadata": {},
   "outputs": [
    {
     "data": {
      "text/plain": [
       "98.86"
      ]
     },
     "execution_count": 19,
     "metadata": {},
     "output_type": "execute_result"
    }
   ],
   "source": [
    "RMSE_test = round(np.sqrt(MSE_test),2)\n",
    "RMSE_test"
   ]
  },
  {
   "cell_type": "markdown",
   "metadata": {},
   "source": [
    "3. Cross validation: (15 points)\n",
    "    1. Estimate the RMSE_test by doing a 5 fold cross validation on the train set and name it as RMSE_CV. (5 points)\n",
    "    2. Plot the RMSE_CV vs K and find the optimal value for K in the KNN regression model. (10 points)"
   ]
  },
  {
   "cell_type": "code",
   "execution_count": 20,
   "metadata": {},
   "outputs": [],
   "source": [
    "from sklearn.model_selection import cross_val_score"
   ]
  },
  {
   "cell_type": "code",
   "execution_count": 21,
   "metadata": {},
   "outputs": [],
   "source": [
    "NMSE = cross_val_score(estimator = KNN_regression, X = X_train, y = y_train, cv = 5, scoring=\"neg_mean_squared_error\" )"
   ]
  },
  {
   "cell_type": "code",
   "execution_count": 22,
   "metadata": {},
   "outputs": [
    {
     "data": {
      "text/plain": [
       "10360.0989"
      ]
     },
     "execution_count": 22,
     "metadata": {},
     "output_type": "execute_result"
    }
   ],
   "source": [
    "MSE_CV = round(np.mean(-NMSE),4)\n",
    "MSE_CV"
   ]
  },
  {
   "cell_type": "code",
   "execution_count": 23,
   "metadata": {},
   "outputs": [
    {
     "data": {
      "text/plain": [
       "101.7846"
      ]
     },
     "execution_count": 23,
     "metadata": {},
     "output_type": "execute_result"
    }
   ],
   "source": [
    "RMSE_CV = round(np.sqrt(MSE_CV), 4)\n",
    "RMSE_CV"
   ]
  },
  {
   "cell_type": "code",
   "execution_count": null,
   "metadata": {},
   "outputs": [],
   "source": [
    "RMSE_CV=[]\n",
    "RMSE_test = []\n",
    "\n",
    "k=20\n",
    "\n",
    "for i in range(1,k):\n",
    "    KNN_i = KNeighborsRegressor(n_neighbors=i)\n",
    "    KNN_i.fit(X_train, y_train)\n",
    "    RMSE_i = np.sqrt(np.mean(-1*cross_val_score(estimator = KNN_i, X = X_train, y = y_train, cv = 5, scoring=\"neg_mean_squared_error\" )))\n",
    "    RMSE_CV.append(RMSE_i)\n",
    "    \n",
    "    RMSE_test.append(np.sqrt(np.mean(np.square(y_test - KNN_i.predict(X_test)))))\n",
    "    \n",
    "optimal_k = pd.DataFrame({'RMSE_CV': np.round(RMSE_CV,2), 'RMSE_test':np.round(RMSE_test,2)}, index=range(1,k))"
   ]
  },
  {
   "cell_type": "code",
   "execution_count": null,
   "metadata": {},
   "outputs": [],
   "source": [
    "optimal_k.head(10)"
   ]
  },
  {
   "cell_type": "code",
   "execution_count": null,
   "metadata": {},
   "outputs": [],
   "source": [
    "plt.figure(figsize=(10,5))\n",
    "sns.lineplot(data=optimal_k)\n",
    "plt.title('Cross Validated RMSE VS K')\n",
    "plt.xlabel('K')\n",
    "plt.ylabel('RMSE')\n",
    "plt.show()"
   ]
  },
  {
   "cell_type": "markdown",
   "metadata": {},
   "source": [
    "- We would choose a K of 3 because this is when the RMSE_CV is the lowest. "
   ]
  },
  {
   "cell_type": "markdown",
   "metadata": {},
   "source": [
    "### Question 2: KNN Classification (105 points)\n",
    "\n",
    "The managers of Capital Bikeshare have found that the system works smoothly until more than 500 bikes are rented in any one hour. At that point, it becomes necessary to insert extra bikes into the system and move them across stations to balance loads. Do the followings:"
   ]
  },
  {
   "cell_type": "markdown",
   "metadata": {},
   "source": [
    "1. Define a binary target variable overload. Overload=1 if cnt>500 and 0 otherwise. What are the proportions of overload vs non-overload in your data set? Is the target variable balanced or imbalanced?"
   ]
  },
  {
   "cell_type": "code",
   "execution_count": null,
   "metadata": {},
   "outputs": [],
   "source": [
    "df[\"overload\"] = np.where(df[\"cnt\"] > 500, 1, 0)"
   ]
  },
  {
   "cell_type": "code",
   "execution_count": null,
   "metadata": {},
   "outputs": [],
   "source": [
    "# first we look at target variable proportions:\n",
    "pd.crosstab(df['overload'],df['overload'], normalize='all')*100"
   ]
  },
  {
   "cell_type": "markdown",
   "metadata": {},
   "source": [
    "- Our data is very imbalanced, but this is to be expected. It is not very often that we woud expect 500 bikes to be rented in any one hour."
   ]
  },
  {
   "cell_type": "markdown",
   "metadata": {},
   "source": [
    "2. Along with the target variable, define your feature space (X) and split the data into test (30%) and train set (70%) "
   ]
  },
  {
   "cell_type": "code",
   "execution_count": null,
   "metadata": {},
   "outputs": [],
   "source": [
    "y = df['overload']\n",
    "X = df.drop('overload', axis=1)\n",
    "\n",
    "from sklearn.model_selection import train_test_split\n",
    "X_train, X_test, y_train, y_test = train_test_split(X, y, test_size=0.3, random_state=rand_state)"
   ]
  },
  {
   "cell_type": "code",
   "execution_count": null,
   "metadata": {},
   "outputs": [],
   "source": [
    "X_train.head()"
   ]
  },
  {
   "cell_type": "markdown",
   "metadata": {},
   "source": [
    "3. From sklearn.neighbors import the relevant function for KNN classification. Do the followings: (25 points)\n",
    "    1. Train the KNN classification model using its default parameters. (5 points)\n",
    "    2. Generate the predicted probabilities and predicted classifications and save them as y_hat_probs, y_hat respectively. (5 points)\n",
    "    3. Plot the histogram of y_hat_probs? Explain what you see? Is there a probability threshold at which the model always predict negative or positive? (5 points)\n",
    "    4. Generate predicted classifications for two different thresholds (30% and 70% threshold). Save these new predictions as y_hat_30 and y_hat_70. Which threshold should you use if your goal is to avoid too many false negatives? Explain your answer. (10 points)\n",
    "    5. Construct a data frame named df_predictions with 5 columns. y_test,  and the 4 y_hats from previous parts "
   ]
  },
  {
   "cell_type": "code",
   "execution_count": null,
   "metadata": {},
   "outputs": [],
   "source": [
    "from sklearn.neighbors import KNeighborsClassifier"
   ]
  },
  {
   "cell_type": "code",
   "execution_count": null,
   "metadata": {},
   "outputs": [],
   "source": [
    "# Fitting KNN classifier to the Training set\n",
    "\n",
    "KNN_classifier = KNeighborsClassifier(n_neighbors=5)\n",
    "KNN_classifier.fit(X_train, y_train)"
   ]
  },
  {
   "cell_type": "markdown",
   "metadata": {},
   "source": [
    "Minkowski distance: https://en.wikipedia.org/wiki/Minkowski_distance"
   ]
  },
  {
   "cell_type": "code",
   "execution_count": null,
   "metadata": {
    "jupyter": {
     "source_hidden": true
    }
   },
   "outputs": [],
   "source": [
    "# Predicting the Test set probabilities and classes\n",
    "y_hat      = KNN_classifier.predict(X_test)\n",
    "y_hat_probs = KNN_classifier.predict_proba(X_test)[:,1] \n",
    "# predicted probabilities are reported for both classes. we saved the prob of overloads or no overloads."
   ]
  },
  {
   "cell_type": "code",
   "execution_count": null,
   "metadata": {},
   "outputs": [],
   "source": [
    "np.round(KNN_classifier.predict_proba(X_test),3)[:5]"
   ]
  },
  {
   "cell_type": "markdown",
   "metadata": {},
   "source": [
    "Let's look at the histogram of probabilities of default:"
   ]
  },
  {
   "cell_type": "code",
   "execution_count": null,
   "metadata": {},
   "outputs": [],
   "source": [
    "plt.hist(y_hat_probs)\n",
    "plt.show()"
   ]
  },
  {
   "cell_type": "markdown",
   "metadata": {},
   "source": [
    "- We would say the histogram shows a fair distribution, because we knew that our data is relatively imbalanced. Therefore, we expect that the probability that an overload would exist within one hour is highly unlikely, which is what is communicated by the histogram. "
   ]
  },
  {
   "cell_type": "code",
   "execution_count": null,
   "metadata": {},
   "outputs": [],
   "source": [
    "from sklearn.metrics import accuracy_score, recall_score, precision_score, f1_score\n",
    "from sklearn.metrics import confusion_matrix, classification_report, roc_curve, roc_auc_score"
   ]
  },
  {
   "cell_type": "code",
   "execution_count": null,
   "metadata": {},
   "outputs": [],
   "source": [
    "y_hat_30 = np.where(y_hat_probs>0.3,1,0)\n",
    "y_hat_70 = np.where(y_hat_probs>0.7,1,0)"
   ]
  },
  {
   "cell_type": "code",
   "execution_count": null,
   "metadata": {},
   "outputs": [],
   "source": [
    "# let's put all the predictions together in a data frame.\n",
    "df_predictions = pd.DataFrame({'y_test':y_test, 'y_hat_probs':y_hat_probs,\n",
    "                               'y_hat_30':y_hat_30, 'y_hat_70':y_hat_70})\n",
    "df_predictions.head(10)"
   ]
  },
  {
   "cell_type": "markdown",
   "metadata": {},
   "source": [
    "- If our objective is to reduce false negatives, we would choose the lower threshold. Therfore, we would go with 30%. Simply put, we are lowering the bar, so we could avoid our model from incorrectly classifying the observations. "
   ]
  },
  {
   "cell_type": "code",
   "execution_count": null,
   "metadata": {},
   "outputs": [],
   "source": [
    "y_hat_0 = np.where(y_hat_probs>0,1,0)\n",
    "y_hat_1 = np.where(y_hat_probs>1,1,0)"
   ]
  },
  {
   "cell_type": "code",
   "execution_count": null,
   "metadata": {},
   "outputs": [],
   "source": [
    "df_predictions2 = pd.DataFrame({'y_test':y_test, 'y_hat_probs':y_hat_probs,\n",
    "                               'y_hat_0':y_hat_0, 'y_hat_1': y_hat_1})\n",
    "df_predictions2.head()"
   ]
  },
  {
   "cell_type": "code",
   "execution_count": null,
   "metadata": {},
   "outputs": [],
   "source": [
    "print(confusion_matrix(y_test, y_hat_0))"
   ]
  },
  {
   "cell_type": "code",
   "execution_count": null,
   "metadata": {},
   "outputs": [],
   "source": [
    "print(confusion_matrix(y_test, y_hat_1))"
   ]
  },
  {
   "cell_type": "markdown",
   "metadata": {},
   "source": [
    "- We would only be able to create a threshold of 1 that would predict all data points as negative. Setting a threshold equal to 0 would still give us similar predictions of setting a threshold between 0 and 1. This is because there are very few probabilities in between 0 and 1. "
   ]
  },
  {
   "cell_type": "markdown",
   "metadata": {},
   "source": [
    "4. Borrow my_KNN_report() function from the python notebook of class 13. (25 points) \n",
    "    1. Report the Accuracy, precision, recall and f1 score along with the confusion matrix for threshold =0.5. Interpret all these statistics. Do you trust the accuracy of the model? why? (15 points)\n",
    "    2. Now use threshold = 0.3 in the my_logistic_report() function. what happens to accuracy, precision, recall and f1 score? what happens to false negatives? is this consistent with you answer to question 5.4? (10 points)"
   ]
  },
  {
   "cell_type": "code",
   "execution_count": null,
   "metadata": {},
   "outputs": [],
   "source": [
    "from sklearn.metrics import confusion_matrix\n",
    "from sklearn.metrics import accuracy_score, recall_score, precision_score, f1_score\n",
    "\n",
    "\n",
    "\n",
    "def my_KNN_report(X_train, y_train, X_test,y_test, K=5, threshold=0.5):\n",
    "    knn= KNeighborsClassifier(n_neighbors=K)\n",
    "    knn.fit(X_train, y_train)\n",
    "    probs = knn.predict_proba(X_test)[:,1]\n",
    "    y_hat = np.where(probs>=threshold,1,0)\n",
    "    \n",
    "    cm = confusion_matrix(y_test, y_hat)\n",
    "    accuracy = round(accuracy_score(y_test,y_hat) ,4)\n",
    "    error_rate = round(1-accuracy,4)\n",
    "    precision = round(precision_score(y_test,y_hat),2)\n",
    "    recall = round(recall_score(y_test,y_hat),2)\n",
    "    f1score = round(f1_score(y_test,y_hat),2)\n",
    "    cm_labled = pd.DataFrame(cm, index=['Actual : negative ','Actual : positive'], columns=['Predict : negative','Predict :positive '])\n",
    "    \n",
    "    print(\"-----------------------------------------\")\n",
    "    print('Accuracy  = {}'.format(accuracy))\n",
    "    print('Error_rate  = {}'.format(error_rate))\n",
    "    print('Precision = {}'.format(precision))\n",
    "    print('Recall    = {}'.format(recall))\n",
    "    print('f1_score  = {}'.format(f1score))\n",
    "    print(\"-----------------------------------------\")\n",
    "    return cm_labled\n",
    " "
   ]
  },
  {
   "cell_type": "code",
   "execution_count": null,
   "metadata": {},
   "outputs": [],
   "source": [
    "my_KNN_report(X_train, y_train, X_test,y_test, K=5, threshold=0.5)"
   ]
  },
  {
   "cell_type": "markdown",
   "metadata": {},
   "source": [
    "- Since this is a large data set and we know the distribution of the data, we can feel confident in our accuracy score. We also calculated an f1 score of 1.0, which means that our model does a great job of predicting both negative and positive overload probabilities. "
   ]
  },
  {
   "cell_type": "code",
   "execution_count": null,
   "metadata": {},
   "outputs": [],
   "source": [
    "my_KNN_report(X_train, y_train, X_test,y_test, K=5, threshold=0.3)"
   ]
  },
  {
   "cell_type": "markdown",
   "metadata": {},
   "source": [
    "- Our false negatives decreased to 0 and our false positives increased to 1. This in turn increased our accuracy to .9998 and our recall to 1.0. I would still say that our model does a great job predicting both negative and positive overload probabilities, but a threshold of 0.3 is better. "
   ]
  },
  {
   "cell_type": "markdown",
   "metadata": {},
   "source": [
    "5. Plot the ROC curve and report the AUC score. Is your model doing a better job than random prediction (no skill)? "
   ]
  },
  {
   "cell_type": "code",
   "execution_count": null,
   "metadata": {},
   "outputs": [],
   "source": [
    "# generate a no skill (ns) prediction and KNN  (lr) predictions.\n",
    "ns_probs = [0 for i in range(len(y_test))]\n",
    "lr_probs = KNN_classifier.predict_proba(X_test)[:,1]\n",
    "# calculating scores for no skill and KNN \n",
    "ns_auc = roc_auc_score(y_test, ns_probs)\n",
    "lr_auc = roc_auc_score(y_test, lr_probs)\n",
    "print('No Skill: ROC AUC=%.3f' % (ns_auc))\n",
    "print('KNN: ROC AUC=%.3f' % (lr_auc))\n",
    "\n",
    "# calculate roc curves\n",
    "ns_fpr, ns_tpr, _ = roc_curve(y_test, ns_probs)\n",
    "lr_fpr, lr_tpr, _ = roc_curve(y_test, lr_probs)\n",
    "# plot the roc curve for the model\n",
    "plt.plot(ns_fpr, ns_tpr, linestyle='--', label='No Skill')\n",
    "plt.plot(lr_fpr, lr_tpr, marker='.', label='KNN')\n",
    "# axis labels\n",
    "plt.xlabel('False Positive Rate')\n",
    "plt.ylabel('True Positive Rate')\n",
    "# show the legend\n",
    "plt.legend()\n",
    "# show the plot\n",
    "plt.show()"
   ]
  },
  {
   "cell_type": "markdown",
   "metadata": {},
   "source": [
    "- Not to flex, but our model is doing an AMAZING job of predicting overload probabilities compared to the random prediction model"
   ]
  },
  {
   "cell_type": "markdown",
   "metadata": {},
   "source": [
    "6. Cross validation: (15 points)\n",
    "    1. Estimate the error_rate_test by doing a 5 fold cross validation on the train set and name it as error_rate_CV. (5 points)\n",
    "    2. Plot the error_rate_CV vs K and find the optimal value for K in the KNN classification model. (10 points)"
   ]
  },
  {
   "cell_type": "code",
   "execution_count": null,
   "metadata": {},
   "outputs": [],
   "source": [
    "from sklearn.model_selection import cross_val_score\n",
    "import sklearn.metrics\n",
    "sorted(sklearn.metrics.SCORERS.keys())"
   ]
  },
  {
   "cell_type": "code",
   "execution_count": null,
   "metadata": {},
   "outputs": [],
   "source": [
    "accuracy = cross_val_score(estimator = KNN_classifier, X = X_train, y = y_train, cv = 5, scoring=\"accuracy\")"
   ]
  },
  {
   "cell_type": "code",
   "execution_count": null,
   "metadata": {},
   "outputs": [],
   "source": [
    "error_rate_CV=round((1-accuracy).mean(),4)\n",
    "error_rate_CV"
   ]
  },
  {
   "cell_type": "code",
   "execution_count": null,
   "metadata": {},
   "outputs": [],
   "source": [
    "error_rate = []\n",
    "k=50\n",
    "\n",
    "for i in range(1,k):\n",
    "    KNN_i = KNeighborsClassifier(n_neighbors=i)\n",
    "    KNN_i.fit(X_train, y_train)\n",
    "    error_rate.append(np.mean(y_test != KNN_i.predict(X_test)) )\n"
   ]
  },
  {
   "cell_type": "code",
   "execution_count": null,
   "metadata": {},
   "outputs": [],
   "source": [
    "plt.figure(figsize=(10,5))\n",
    "sns.lineplot(y=error_rate, x=range(1,k))\n",
    "plt.title('Test Error Rate VS K')\n",
    "plt.xlabel('K')\n",
    "plt.ylabel('Error rate')\n",
    "plt.show()"
   ]
  },
  {
   "cell_type": "markdown",
   "metadata": {},
   "source": [
    "- Our optimal K is 35. This is when the error rate is minimized and our KNN model is the simplest. "
   ]
  },
  {
   "cell_type": "markdown",
   "metadata": {},
   "source": [
    "7. As the manager of Capital Bikeshare, you are dealing with a trade of between unexpected overload cost and cost of idle bikes. If the cost of a single idle bike is smaller than the cost of a single unexpected overload, then which of the following probability thresholds would satisfy your objective? 0.3, 0.5 or 0.7? (15 points)  Hint: idle bike = False overload and unexpected overload = False non-overload"
   ]
  },
  {
   "cell_type": "code",
   "execution_count": null,
   "metadata": {},
   "outputs": [],
   "source": [
    "# idle bike = FP\n",
    "# unexpected overload = FN\n",
    "# We want to trade an idle bike for unexpected overload (minimize false negatives)\n",
    "\n",
    "my_KNN_report(X_train, y_train, X_test,y_test, K=5, threshold=0.3)"
   ]
  },
  {
   "cell_type": "code",
   "execution_count": null,
   "metadata": {},
   "outputs": [],
   "source": [
    "my_KNN_report(X_train, y_train, X_test,y_test, K=5, threshold=0.5)"
   ]
  },
  {
   "cell_type": "code",
   "execution_count": null,
   "metadata": {},
   "outputs": [],
   "source": [
    "my_KNN_report(X_train, y_train, X_test,y_test, K=5, threshold=0.7)"
   ]
  },
  {
   "cell_type": "markdown",
   "metadata": {},
   "source": [
    "- Given this trade-off between idle bikes and unexpected overloads, we would choose a threshold of 0.3. This minimizes our # of unexpected overloads (false negatives) to 0 and trades any potential overloads for an idle bike (false positive). "
   ]
  }
 ],
 "metadata": {
  "kernelspec": {
   "display_name": "Python 3",
   "language": "python",
   "name": "python3"
  },
  "language_info": {
   "codemirror_mode": {
    "name": "ipython",
    "version": 3
   },
   "file_extension": ".py",
   "mimetype": "text/x-python",
   "name": "python",
   "nbconvert_exporter": "python",
   "pygments_lexer": "ipython3",
   "version": "3.8.3"
  }
 },
 "nbformat": 4,
 "nbformat_minor": 4
}
