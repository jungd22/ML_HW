{
 "cells": [
  {
   "cell_type": "markdown",
   "metadata": {},
   "source": [
    "# Homework 5: Group 1\n",
    "#### Regularization"
   ]
  },
  {
   "cell_type": "markdown",
   "metadata": {},
   "source": [
    "David Jung, Ryan Voges, Emily Blake, Spencer Powell, Abraham Alhomadi"
   ]
  },
  {
   "cell_type": "markdown",
   "metadata": {},
   "source": [
    "1. Standardize all the variables using StandarScaler() class from sklearn package.\n",
    "With the standardized variables, make a new data frame and call it df sc."
   ]
  },
  {
   "cell_type": "markdown",
   "metadata": {},
   "source": [
    "2. Define your feature space and target variables and then split the data into test\n",
    "(20%) and train set (80%)"
   ]
  },
  {
   "cell_type": "markdown",
   "metadata": {},
   "source": [
    "3. As a benchmark, use sm.OLS() function from statsmodel.api package to run the\n",
    "linear regression model on the train set. (10 points)\n",
    "    1. Report the summary output. (5 points)\n",
    "    2. From the summary report, What is the R2 of the model in train set?(3 points)\n",
    "    3. Are any of the features statistically signi\f",
    "cant at 5% level? (2 points)"
   ]
  },
  {
   "cell_type": "markdown",
   "metadata": {},
   "source": [
    "4. From sklearn.linear model import the relevant functions for Linear Regression,\n",
    "Ridge, Lasso and ElasticNet regression functions. Do the followings: (25 points)\n",
    "    1. Train all the 4 models with the default features. (5 points)\n",
    "    2. Save the predicted values for the test set in y hat linear, y hat ridge, y hat lasso\n",
    "and y hat net. (5 points)\n",
    "    3. Construct a data frame named df predictions with 5 columns. y test, and the\n",
    "four y hats from previous part (5 points)\n",
    "    4. Estimate the coeficients from each model and stack them all along with the\n",
    "feature names in a new data frame named coeficients. (5 points)\n",
    "    5. Why do you think all the coeficients of Lasso and ElasticNet models are\n",
    "zero? (5 points)"
   ]
  },
  {
   "cell_type": "markdown",
   "metadata": {},
   "source": [
    "5. Use cross validation to find the optimal hyper parameters (alphas) for the penal-ized regression models. Save these optimal alphas in a new object. you need to use them in next part."
   ]
  },
  {
   "cell_type": "markdown",
   "metadata": {},
   "source": [
    "6. Now go back to part 4, copy codes from cells in part 4.1, 4.2 and 4.3. You need to refit the models using the optimal hyper parameters (alphas) that you obtained\n",
    "from cross validation in part 5. However, name your final predictions data frame\n",
    "as df predictions optimal"
   ]
  },
  {
   "cell_type": "markdown",
   "metadata": {},
   "source": [
    "7. Use the variables in df predictions optimal to report the RMSE test (RMSE in\n",
    "the test set) for all the four models. Rank the models based on their performance\n",
    "in the test set. Were you able to beat the simple linear model? What does this\n",
    "mean?"
   ]
  },
  {
   "cell_type": "markdown",
   "metadata": {},
   "source": [
    "8. Plot the coeficients vs alphas for each of the penalized regression models. How\n",
    "do you interpret each of them? You can use this range for all the models:\n",
    "\n",
    "alphas = 10**np.linspace(-4,2,100)"
   ]
  },
  {
   "cell_type": "markdown",
   "metadata": {},
   "source": [
    "9. From the 3 plots you generated in part 8, answer the following questions:\n",
    "\n",
    "    1. Ridge regression plot: Which coeficients drop most significantly when alpha increases from 0.0001 to 10. (name the top two) (5 points)\n",
    "    2. Lasso regression plot: What are the top 2 variables that survive when alpha=0.1? (5 points)\n",
    "    3.From the Lasso plot and ElasticNet plot, why the magnitude of Lasso coeficients are larger than the ElasticNet coeficients for alpha=0.0001?"
   ]
  }
 ],
 "metadata": {
  "kernelspec": {
   "display_name": "Python 3",
   "language": "python",
   "name": "python3"
  },
  "language_info": {
   "codemirror_mode": {
    "name": "ipython",
    "version": 3
   },
   "file_extension": ".py",
   "mimetype": "text/x-python",
   "name": "python",
   "nbconvert_exporter": "python",
   "pygments_lexer": "ipython3",
   "version": "3.8.5"
  }
 },
 "nbformat": 4,
 "nbformat_minor": 4
}
