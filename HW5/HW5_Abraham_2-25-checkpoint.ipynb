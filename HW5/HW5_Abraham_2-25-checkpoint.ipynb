{
 "cells": [
  {
   "cell_type": "markdown",
   "metadata": {},
   "source": [
    "### Homework 5"
   ]
  },
  {
   "cell_type": "markdown",
   "metadata": {},
   "source": [
    "#### David and Abraham"
   ]
  },
  {
   "cell_type": "code",
   "execution_count": 2,
   "metadata": {},
   "outputs": [],
   "source": [
    "# Importing necessary libararies to undertake regression:\n",
    "\n",
    "import numpy as np\n",
    "import pandas as pd\n",
    "import matplotlib.pyplot as plt\n",
    "import seaborn as sns\n",
    "from sklearn.linear_model import LinearRegression\n",
    "import statsmodels.api as sm\n",
    "sns.set()\n",
    "import warnings"
   ]
  },
  {
   "cell_type": "code",
   "execution_count": 3,
   "metadata": {},
   "outputs": [],
   "source": [
    "rand_state = 1000"
   ]
  },
  {
   "cell_type": "code",
   "execution_count": 4,
   "metadata": {},
   "outputs": [],
   "source": [
    "df = pd.read_csv(\"wage_regularization.csv\", sep = ',')"
   ]
  },
  {
   "cell_type": "code",
   "execution_count": 6,
   "metadata": {},
   "outputs": [
    {
     "data": {
      "text/html": [
       "<div>\n",
       "<style scoped>\n",
       "    .dataframe tbody tr th:only-of-type {\n",
       "        vertical-align: middle;\n",
       "    }\n",
       "\n",
       "    .dataframe tbody tr th {\n",
       "        vertical-align: top;\n",
       "    }\n",
       "\n",
       "    .dataframe thead th {\n",
       "        text-align: right;\n",
       "    }\n",
       "</style>\n",
       "<table border=\"1\" class=\"dataframe\">\n",
       "  <thead>\n",
       "    <tr style=\"text-align: right;\">\n",
       "      <th></th>\n",
       "      <th>wage</th>\n",
       "      <th>educ</th>\n",
       "      <th>educ2</th>\n",
       "      <th>educ3</th>\n",
       "      <th>educ4</th>\n",
       "      <th>educ5</th>\n",
       "      <th>age</th>\n",
       "      <th>age2</th>\n",
       "      <th>age3</th>\n",
       "      <th>age4</th>\n",
       "      <th>age5</th>\n",
       "    </tr>\n",
       "  </thead>\n",
       "  <tbody>\n",
       "    <tr>\n",
       "      <th>0</th>\n",
       "      <td>769000.0</td>\n",
       "      <td>12</td>\n",
       "      <td>144</td>\n",
       "      <td>1728</td>\n",
       "      <td>20736</td>\n",
       "      <td>248832</td>\n",
       "      <td>31</td>\n",
       "      <td>961</td>\n",
       "      <td>29791</td>\n",
       "      <td>923521</td>\n",
       "      <td>28629151</td>\n",
       "    </tr>\n",
       "    <tr>\n",
       "      <th>1</th>\n",
       "      <td>808000.0</td>\n",
       "      <td>18</td>\n",
       "      <td>324</td>\n",
       "      <td>5832</td>\n",
       "      <td>104976</td>\n",
       "      <td>1889568</td>\n",
       "      <td>37</td>\n",
       "      <td>1369</td>\n",
       "      <td>50653</td>\n",
       "      <td>1874161</td>\n",
       "      <td>69343957</td>\n",
       "    </tr>\n",
       "    <tr>\n",
       "      <th>2</th>\n",
       "      <td>825000.0</td>\n",
       "      <td>14</td>\n",
       "      <td>196</td>\n",
       "      <td>2744</td>\n",
       "      <td>38416</td>\n",
       "      <td>537824</td>\n",
       "      <td>33</td>\n",
       "      <td>1089</td>\n",
       "      <td>35937</td>\n",
       "      <td>1185921</td>\n",
       "      <td>39135393</td>\n",
       "    </tr>\n",
       "    <tr>\n",
       "      <th>3</th>\n",
       "      <td>650000.0</td>\n",
       "      <td>12</td>\n",
       "      <td>144</td>\n",
       "      <td>1728</td>\n",
       "      <td>20736</td>\n",
       "      <td>248832</td>\n",
       "      <td>32</td>\n",
       "      <td>1024</td>\n",
       "      <td>32768</td>\n",
       "      <td>1048576</td>\n",
       "      <td>33554432</td>\n",
       "    </tr>\n",
       "    <tr>\n",
       "      <th>4</th>\n",
       "      <td>562000.0</td>\n",
       "      <td>11</td>\n",
       "      <td>121</td>\n",
       "      <td>1331</td>\n",
       "      <td>14641</td>\n",
       "      <td>161051</td>\n",
       "      <td>34</td>\n",
       "      <td>1156</td>\n",
       "      <td>39304</td>\n",
       "      <td>1336336</td>\n",
       "      <td>45435424</td>\n",
       "    </tr>\n",
       "  </tbody>\n",
       "</table>\n",
       "</div>"
      ],
      "text/plain": [
       "       wage  educ  educ2  educ3   educ4    educ5  age  age2   age3     age4  \\\n",
       "0  769000.0    12    144   1728   20736   248832   31   961  29791   923521   \n",
       "1  808000.0    18    324   5832  104976  1889568   37  1369  50653  1874161   \n",
       "2  825000.0    14    196   2744   38416   537824   33  1089  35937  1185921   \n",
       "3  650000.0    12    144   1728   20736   248832   32  1024  32768  1048576   \n",
       "4  562000.0    11    121   1331   14641   161051   34  1156  39304  1336336   \n",
       "\n",
       "       age5  \n",
       "0  28629151  \n",
       "1  69343957  \n",
       "2  39135393  \n",
       "3  33554432  \n",
       "4  45435424  "
      ]
     },
     "execution_count": 6,
     "metadata": {},
     "output_type": "execute_result"
    }
   ],
   "source": [
    "# Briefly looking at the head of the dataset to make sure it is the right one:\n",
    "df.head()"
   ]
  },
  {
   "cell_type": "code",
   "execution_count": 7,
   "metadata": {},
   "outputs": [
    {
     "name": "stdout",
     "output_type": "stream",
     "text": [
      "<class 'pandas.core.frame.DataFrame'>\n",
      "RangeIndex: 935 entries, 0 to 934\n",
      "Data columns (total 11 columns):\n",
      " #   Column  Non-Null Count  Dtype  \n",
      "---  ------  --------------  -----  \n",
      " 0   wage    935 non-null    float64\n",
      " 1   educ    935 non-null    int64  \n",
      " 2   educ2   935 non-null    int64  \n",
      " 3   educ3   935 non-null    int64  \n",
      " 4   educ4   935 non-null    int64  \n",
      " 5   educ5   935 non-null    int64  \n",
      " 6   age     935 non-null    int64  \n",
      " 7   age2    935 non-null    int64  \n",
      " 8   age3    935 non-null    int64  \n",
      " 9   age4    935 non-null    int64  \n",
      " 10  age5    935 non-null    int64  \n",
      "dtypes: float64(1), int64(10)\n",
      "memory usage: 80.5 KB\n"
     ]
    }
   ],
   "source": [
    "df.info()"
   ]
  },
  {
   "cell_type": "code",
   "execution_count": 8,
   "metadata": {},
   "outputs": [
    {
     "data": {
      "image/png": "[encoded data removed]",
      "text/plain": [
       "<Figure size 432x288 with 1 Axes>"
      ]
     },
     "metadata": {},
     "output_type": "display_data"
    }
   ],
   "source": [
    "# Looking at the graphical distribution of the dataset (target variable: wage, and explanatory variable: educ)\n",
    "sns.scatterplot(y='wage', x='educ', data=df)\n",
    "plt.show()"
   ]
  },
  {
   "cell_type": "code",
   "execution_count": 9,
   "metadata": {},
   "outputs": [
    {
     "data": {
      "image/png": "[encoded data removed]",
      "text/plain": [
       "<Figure size 432x288 with 1 Axes>"
      ]
     },
     "metadata": {},
     "output_type": "display_data"
    }
   ],
   "source": [
    "# wage vs. educ graphical distribution:\n",
    "sns.scatterplot(y='wage', x='age', data=df)\n",
    "plt.show()"
   ]
  },
  {
   "cell_type": "markdown",
   "metadata": {},
   "source": [
    "Question 1) Standardize all the variables using StandarScaler() class from sklearn package. With the standardize variables, make a new data frame and call it df_sc."
   ]
  },
  {
   "cell_type": "code",
   "execution_count": 11,
   "metadata": {},
   "outputs": [],
   "source": [
    "# Importing the sklearn library to carry out standardization:\n",
    "\n",
    "from sklearn.preprocessing import StandardScaler"
   ]
  },
  {
   "cell_type": "code",
   "execution_count": 12,
   "metadata": {},
   "outputs": [
    {
     "data": {
      "text/plain": [
       "array([[-0.46751952, -0.66885143, -0.681389  , -0.68346491, -0.67711629,\n",
       "        -0.66426779, -0.66971009, -0.69120265, -0.70895446, -0.72303072,\n",
       "        -0.73357606],\n",
       "       [-0.37101938,  2.06403752,  2.2236843 ,  2.37963012,  2.53086798,\n",
       "         2.67599907,  1.2619473 ,  1.28160825,  1.29793053,  1.31081019,\n",
       "         1.32021092],\n",
       "       [-0.32895523,  0.24211155,  0.1578544 ,  0.07484516, -0.00383564,\n",
       "        -0.07592792, -0.0258243 , -0.07228158, -0.11772087, -0.16164066,\n",
       "        -0.20360711]])"
      ]
     },
     "execution_count": 12,
     "metadata": {},
     "output_type": "execute_result"
    }
   ],
   "source": [
    "# Executing the standardization and viewing the first three rows: \n",
    "stand=StandardScaler()\n",
    "df_sc= stand.fit_transform(df)\n",
    "df_sc[0:3]"
   ]
  },
  {
   "cell_type": "code",
   "execution_count": 13,
   "metadata": {},
   "outputs": [
    {
     "data": {
      "text/html": [
       "<div>\n",
       "<style scoped>\n",
       "    .dataframe tbody tr th:only-of-type {\n",
       "        vertical-align: middle;\n",
       "    }\n",
       "\n",
       "    .dataframe tbody tr th {\n",
       "        vertical-align: top;\n",
       "    }\n",
       "\n",
       "    .dataframe thead th {\n",
       "        text-align: right;\n",
       "    }\n",
       "</style>\n",
       "<table border=\"1\" class=\"dataframe\">\n",
       "  <thead>\n",
       "    <tr style=\"text-align: right;\">\n",
       "      <th></th>\n",
       "      <th>wage</th>\n",
       "      <th>educ</th>\n",
       "      <th>educ2</th>\n",
       "      <th>educ3</th>\n",
       "      <th>educ4</th>\n",
       "      <th>educ5</th>\n",
       "      <th>age</th>\n",
       "      <th>age2</th>\n",
       "      <th>age3</th>\n",
       "      <th>age4</th>\n",
       "      <th>age5</th>\n",
       "    </tr>\n",
       "  </thead>\n",
       "  <tbody>\n",
       "    <tr>\n",
       "      <th>0</th>\n",
       "      <td>-0.467520</td>\n",
       "      <td>-0.668851</td>\n",
       "      <td>-0.681389</td>\n",
       "      <td>-0.683465</td>\n",
       "      <td>-0.677116</td>\n",
       "      <td>-0.664268</td>\n",
       "      <td>-0.669710</td>\n",
       "      <td>-0.691203</td>\n",
       "      <td>-0.708954</td>\n",
       "      <td>-0.723031</td>\n",
       "      <td>-0.733576</td>\n",
       "    </tr>\n",
       "    <tr>\n",
       "      <th>1</th>\n",
       "      <td>-0.371019</td>\n",
       "      <td>2.064038</td>\n",
       "      <td>2.223684</td>\n",
       "      <td>2.379630</td>\n",
       "      <td>2.530868</td>\n",
       "      <td>2.675999</td>\n",
       "      <td>1.261947</td>\n",
       "      <td>1.281608</td>\n",
       "      <td>1.297931</td>\n",
       "      <td>1.310810</td>\n",
       "      <td>1.320211</td>\n",
       "    </tr>\n",
       "    <tr>\n",
       "      <th>2</th>\n",
       "      <td>-0.328955</td>\n",
       "      <td>0.242112</td>\n",
       "      <td>0.157854</td>\n",
       "      <td>0.074845</td>\n",
       "      <td>-0.003836</td>\n",
       "      <td>-0.075928</td>\n",
       "      <td>-0.025824</td>\n",
       "      <td>-0.072282</td>\n",
       "      <td>-0.117721</td>\n",
       "      <td>-0.161641</td>\n",
       "      <td>-0.203607</td>\n",
       "    </tr>\n",
       "    <tr>\n",
       "      <th>3</th>\n",
       "      <td>-0.761969</td>\n",
       "      <td>-0.668851</td>\n",
       "      <td>-0.681389</td>\n",
       "      <td>-0.683465</td>\n",
       "      <td>-0.677116</td>\n",
       "      <td>-0.664268</td>\n",
       "      <td>-0.347767</td>\n",
       "      <td>-0.386577</td>\n",
       "      <td>-0.422573</td>\n",
       "      <td>-0.455483</td>\n",
       "      <td>-0.485129</td>\n",
       "    </tr>\n",
       "    <tr>\n",
       "      <th>4</th>\n",
       "      <td>-0.979713</td>\n",
       "      <td>-1.124333</td>\n",
       "      <td>-1.052593</td>\n",
       "      <td>-0.979773</td>\n",
       "      <td>-0.909223</td>\n",
       "      <td>-0.842975</td>\n",
       "      <td>0.296119</td>\n",
       "      <td>0.251685</td>\n",
       "      <td>0.206178</td>\n",
       "      <td>0.160164</td>\n",
       "      <td>0.114187</td>\n",
       "    </tr>\n",
       "  </tbody>\n",
       "</table>\n",
       "</div>"
      ],
      "text/plain": [
       "       wage      educ     educ2     educ3     educ4     educ5       age  \\\n",
       "0 -0.467520 -0.668851 -0.681389 -0.683465 -0.677116 -0.664268 -0.669710   \n",
       "1 -0.371019  2.064038  2.223684  2.379630  2.530868  2.675999  1.261947   \n",
       "2 -0.328955  0.242112  0.157854  0.074845 -0.003836 -0.075928 -0.025824   \n",
       "3 -0.761969 -0.668851 -0.681389 -0.683465 -0.677116 -0.664268 -0.347767   \n",
       "4 -0.979713 -1.124333 -1.052593 -0.979773 -0.909223 -0.842975  0.296119   \n",
       "\n",
       "       age2      age3      age4      age5  \n",
       "0 -0.691203 -0.708954 -0.723031 -0.733576  \n",
       "1  1.281608  1.297931  1.310810  1.320211  \n",
       "2 -0.072282 -0.117721 -0.161641 -0.203607  \n",
       "3 -0.386577 -0.422573 -0.455483 -0.485129  \n",
       "4  0.251685  0.206178  0.160164  0.114187  "
      ]
     },
     "execution_count": 13,
     "metadata": {},
     "output_type": "execute_result"
    }
   ],
   "source": [
    "# Making our dataframe a pandas dataframe: \n",
    "df_sc = pd.DataFrame(df_sc, columns=df.columns)\n",
    "df_sc.head()"
   ]
  },
  {
   "cell_type": "code",
   "execution_count": 14,
   "metadata": {},
   "outputs": [
    {
     "data": {
      "text/html": [
       "<div>\n",
       "<style scoped>\n",
       "    .dataframe tbody tr th:only-of-type {\n",
       "        vertical-align: middle;\n",
       "    }\n",
       "\n",
       "    .dataframe tbody tr th {\n",
       "        vertical-align: top;\n",
       "    }\n",
       "\n",
       "    .dataframe thead th {\n",
       "        text-align: right;\n",
       "    }\n",
       "</style>\n",
       "<table border=\"1\" class=\"dataframe\">\n",
       "  <thead>\n",
       "    <tr style=\"text-align: right;\">\n",
       "      <th></th>\n",
       "      <th>count</th>\n",
       "      <th>mean</th>\n",
       "      <th>std</th>\n",
       "      <th>min</th>\n",
       "      <th>25%</th>\n",
       "      <th>50%</th>\n",
       "      <th>75%</th>\n",
       "      <th>max</th>\n",
       "    </tr>\n",
       "  </thead>\n",
       "  <tbody>\n",
       "    <tr>\n",
       "      <th>wage</th>\n",
       "      <td>935.0</td>\n",
       "      <td>9.579455e+05</td>\n",
       "      <td>4.043608e+05</td>\n",
       "      <td>115000.0</td>\n",
       "      <td>669000.0</td>\n",
       "      <td>905000.0</td>\n",
       "      <td>1160000.0</td>\n",
       "      <td>3078000.0</td>\n",
       "    </tr>\n",
       "    <tr>\n",
       "      <th>educ</th>\n",
       "      <td>935.0</td>\n",
       "      <td>1.346845e+01</td>\n",
       "      <td>2.196654e+00</td>\n",
       "      <td>9.0</td>\n",
       "      <td>12.0</td>\n",
       "      <td>12.0</td>\n",
       "      <td>16.0</td>\n",
       "      <td>18.0</td>\n",
       "    </tr>\n",
       "    <tr>\n",
       "      <th>educ2</th>\n",
       "      <td>935.0</td>\n",
       "      <td>1.862193e+02</td>\n",
       "      <td>6.199373e+01</td>\n",
       "      <td>81.0</td>\n",
       "      <td>144.0</td>\n",
       "      <td>144.0</td>\n",
       "      <td>256.0</td>\n",
       "      <td>324.0</td>\n",
       "    </tr>\n",
       "    <tr>\n",
       "      <th>educ3</th>\n",
       "      <td>935.0</td>\n",
       "      <td>2.643721e+03</td>\n",
       "      <td>1.340538e+03</td>\n",
       "      <td>729.0</td>\n",
       "      <td>1728.0</td>\n",
       "      <td>1728.0</td>\n",
       "      <td>4096.0</td>\n",
       "      <td>5832.0</td>\n",
       "    </tr>\n",
       "    <tr>\n",
       "      <th>educ4</th>\n",
       "      <td>935.0</td>\n",
       "      <td>3.851672e+04</td>\n",
       "      <td>2.627353e+04</td>\n",
       "      <td>6561.0</td>\n",
       "      <td>20736.0</td>\n",
       "      <td>20736.0</td>\n",
       "      <td>65536.0</td>\n",
       "      <td>104976.0</td>\n",
       "    </tr>\n",
       "    <tr>\n",
       "      <th>educ5</th>\n",
       "      <td>935.0</td>\n",
       "      <td>5.751197e+05</td>\n",
       "      <td>4.914620e+05</td>\n",
       "      <td>59049.0</td>\n",
       "      <td>248832.0</td>\n",
       "      <td>248832.0</td>\n",
       "      <td>1048576.0</td>\n",
       "      <td>1889568.0</td>\n",
       "    </tr>\n",
       "    <tr>\n",
       "      <th>age</th>\n",
       "      <td>935.0</td>\n",
       "      <td>3.308021e+01</td>\n",
       "      <td>3.107803e+00</td>\n",
       "      <td>28.0</td>\n",
       "      <td>30.0</td>\n",
       "      <td>33.0</td>\n",
       "      <td>36.0</td>\n",
       "      <td>38.0</td>\n",
       "    </tr>\n",
       "    <tr>\n",
       "      <th>age2</th>\n",
       "      <td>935.0</td>\n",
       "      <td>1.103949e+03</td>\n",
       "      <td>2.069222e+02</td>\n",
       "      <td>784.0</td>\n",
       "      <td>900.0</td>\n",
       "      <td>1089.0</td>\n",
       "      <td>1296.0</td>\n",
       "      <td>1444.0</td>\n",
       "    </tr>\n",
       "    <tr>\n",
       "      <th>age3</th>\n",
       "      <td>935.0</td>\n",
       "      <td>3.716073e+04</td>\n",
       "      <td>1.040078e+04</td>\n",
       "      <td>21952.0</td>\n",
       "      <td>27000.0</td>\n",
       "      <td>35937.0</td>\n",
       "      <td>46656.0</td>\n",
       "      <td>54872.0</td>\n",
       "    </tr>\n",
       "    <tr>\n",
       "      <th>age4</th>\n",
       "      <td>935.0</td>\n",
       "      <td>1.261474e+06</td>\n",
       "      <td>4.676613e+05</td>\n",
       "      <td>614656.0</td>\n",
       "      <td>810000.0</td>\n",
       "      <td>1185921.0</td>\n",
       "      <td>1679616.0</td>\n",
       "      <td>2085136.0</td>\n",
       "    </tr>\n",
       "    <tr>\n",
       "      <th>age5</th>\n",
       "      <td>935.0</td>\n",
       "      <td>4.317175e+07</td>\n",
       "      <td>1.983487e+07</td>\n",
       "      <td>17210368.0</td>\n",
       "      <td>24300000.0</td>\n",
       "      <td>39135393.0</td>\n",
       "      <td>60466176.0</td>\n",
       "      <td>79235168.0</td>\n",
       "    </tr>\n",
       "  </tbody>\n",
       "</table>\n",
       "</div>"
      ],
      "text/plain": [
       "       count          mean           std         min         25%         50%  \\\n",
       "wage   935.0  9.579455e+05  4.043608e+05    115000.0    669000.0    905000.0   \n",
       "educ   935.0  1.346845e+01  2.196654e+00         9.0        12.0        12.0   \n",
       "educ2  935.0  1.862193e+02  6.199373e+01        81.0       144.0       144.0   \n",
       "educ3  935.0  2.643721e+03  1.340538e+03       729.0      1728.0      1728.0   \n",
       "educ4  935.0  3.851672e+04  2.627353e+04      6561.0     20736.0     20736.0   \n",
       "educ5  935.0  5.751197e+05  4.914620e+05     59049.0    248832.0    248832.0   \n",
       "age    935.0  3.308021e+01  3.107803e+00        28.0        30.0        33.0   \n",
       "age2   935.0  1.103949e+03  2.069222e+02       784.0       900.0      1089.0   \n",
       "age3   935.0  3.716073e+04  1.040078e+04     21952.0     27000.0     35937.0   \n",
       "age4   935.0  1.261474e+06  4.676613e+05    614656.0    810000.0   1185921.0   \n",
       "age5   935.0  4.317175e+07  1.983487e+07  17210368.0  24300000.0  39135393.0   \n",
       "\n",
       "              75%         max  \n",
       "wage    1160000.0   3078000.0  \n",
       "educ         16.0        18.0  \n",
       "educ2       256.0       324.0  \n",
       "educ3      4096.0      5832.0  \n",
       "educ4     65536.0    104976.0  \n",
       "educ5   1048576.0   1889568.0  \n",
       "age          36.0        38.0  \n",
       "age2       1296.0      1444.0  \n",
       "age3      46656.0     54872.0  \n",
       "age4    1679616.0   2085136.0  \n",
       "age5   60466176.0  79235168.0  "
      ]
     },
     "execution_count": 14,
     "metadata": {},
     "output_type": "execute_result"
    }
   ],
   "source": [
    "# Looking at variables statistical descriptions: \n",
    "df.describe().T"
   ]
  },
  {
   "cell_type": "code",
   "execution_count": 15,
   "metadata": {},
   "outputs": [
    {
     "data": {
      "text/plain": [
       "-0.6684939913158835"
      ]
     },
     "execution_count": 15,
     "metadata": {},
     "output_type": "execute_result"
    }
   ],
   "source": [
    "# Verifying that the standardization was carried out accurately:\n",
    "(12-13.46845)/2.196654\n",
    "\n",
    "# standardization accurate, as the result shows below.  "
   ]
  },
  {
   "cell_type": "code",
   "execution_count": 16,
   "metadata": {},
   "outputs": [
    {
     "data": {
      "text/plain": [
       "Index(['wage', 'educ', 'educ2', 'educ3', 'educ4', 'educ5', 'age', 'age2',\n",
       "       'age3', 'age4', 'age5'],\n",
       "      dtype='object')"
      ]
     },
     "execution_count": 16,
     "metadata": {},
     "output_type": "execute_result"
    }
   ],
   "source": [
    "df_sc.columns"
   ]
  },
  {
   "cell_type": "markdown",
   "metadata": {},
   "source": [
    "Question2) Define your feature space and target variables and then split the data into test (20%) and train set (80%)"
   ]
  },
  {
   "cell_type": "code",
   "execution_count": 19,
   "metadata": {},
   "outputs": [
    {
     "data": {
      "text/html": [
       "<div>\n",
       "<style scoped>\n",
       "    .dataframe tbody tr th:only-of-type {\n",
       "        vertical-align: middle;\n",
       "    }\n",
       "\n",
       "    .dataframe tbody tr th {\n",
       "        vertical-align: top;\n",
       "    }\n",
       "\n",
       "    .dataframe thead th {\n",
       "        text-align: right;\n",
       "    }\n",
       "</style>\n",
       "<table border=\"1\" class=\"dataframe\">\n",
       "  <thead>\n",
       "    <tr style=\"text-align: right;\">\n",
       "      <th></th>\n",
       "      <th>educ</th>\n",
       "      <th>educ2</th>\n",
       "      <th>educ3</th>\n",
       "      <th>educ4</th>\n",
       "      <th>educ5</th>\n",
       "      <th>age</th>\n",
       "      <th>age2</th>\n",
       "      <th>age3</th>\n",
       "      <th>age4</th>\n",
       "      <th>age5</th>\n",
       "    </tr>\n",
       "  </thead>\n",
       "  <tbody>\n",
       "    <tr>\n",
       "      <th>932</th>\n",
       "      <td>-0.668851</td>\n",
       "      <td>-0.681389</td>\n",
       "      <td>-0.683465</td>\n",
       "      <td>-0.677116</td>\n",
       "      <td>-0.664268</td>\n",
       "      <td>-1.635539</td>\n",
       "      <td>-1.547054</td>\n",
       "      <td>-1.463051</td>\n",
       "      <td>-1.383830</td>\n",
       "      <td>-1.309577</td>\n",
       "    </tr>\n",
       "    <tr>\n",
       "      <th>82</th>\n",
       "      <td>-1.124333</td>\n",
       "      <td>-1.052593</td>\n",
       "      <td>-0.979773</td>\n",
       "      <td>-0.909223</td>\n",
       "      <td>-0.842975</td>\n",
       "      <td>1.261947</td>\n",
       "      <td>1.281608</td>\n",
       "      <td>1.297931</td>\n",
       "      <td>1.310810</td>\n",
       "      <td>1.320211</td>\n",
       "    </tr>\n",
       "    <tr>\n",
       "      <th>370</th>\n",
       "      <td>1.608556</td>\n",
       "      <td>1.658809</td>\n",
       "      <td>1.693718</td>\n",
       "      <td>1.713830</td>\n",
       "      <td>1.719745</td>\n",
       "      <td>1.583890</td>\n",
       "      <td>1.644257</td>\n",
       "      <td>1.703790</td>\n",
       "      <td>1.762179</td>\n",
       "      <td>1.819156</td>\n",
       "    </tr>\n",
       "    <tr>\n",
       "      <th>452</th>\n",
       "      <td>-0.668851</td>\n",
       "      <td>-0.681389</td>\n",
       "      <td>-0.683465</td>\n",
       "      <td>-0.677116</td>\n",
       "      <td>-0.664268</td>\n",
       "      <td>0.940004</td>\n",
       "      <td>0.928630</td>\n",
       "      <td>0.913427</td>\n",
       "      <td>0.894592</td>\n",
       "      <td>0.872387</td>\n",
       "    </tr>\n",
       "    <tr>\n",
       "      <th>132</th>\n",
       "      <td>-0.668851</td>\n",
       "      <td>-0.681389</td>\n",
       "      <td>-0.683465</td>\n",
       "      <td>-0.677116</td>\n",
       "      <td>-0.664268</td>\n",
       "      <td>-0.669710</td>\n",
       "      <td>-0.691203</td>\n",
       "      <td>-0.708954</td>\n",
       "      <td>-0.723031</td>\n",
       "      <td>-0.733576</td>\n",
       "    </tr>\n",
       "  </tbody>\n",
       "</table>\n",
       "</div>"
      ],
      "text/plain": [
       "         educ     educ2     educ3     educ4     educ5       age      age2  \\\n",
       "932 -0.668851 -0.681389 -0.683465 -0.677116 -0.664268 -1.635539 -1.547054   \n",
       "82  -1.124333 -1.052593 -0.979773 -0.909223 -0.842975  1.261947  1.281608   \n",
       "370  1.608556  1.658809  1.693718  1.713830  1.719745  1.583890  1.644257   \n",
       "452 -0.668851 -0.681389 -0.683465 -0.677116 -0.664268  0.940004  0.928630   \n",
       "132 -0.668851 -0.681389 -0.683465 -0.677116 -0.664268 -0.669710 -0.691203   \n",
       "\n",
       "         age3      age4      age5  \n",
       "932 -1.463051 -1.383830 -1.309577  \n",
       "82   1.297931  1.310810  1.320211  \n",
       "370  1.703790  1.762179  1.819156  \n",
       "452  0.913427  0.894592  0.872387  \n",
       "132 -0.708954 -0.723031 -0.733576  "
      ]
     },
     "execution_count": 19,
     "metadata": {},
     "output_type": "execute_result"
    }
   ],
   "source": [
    "# Splitting the data:\n",
    "\n",
    "y = df_sc['wage'] \n",
    "X = df_sc.drop('wage', axis=1)\n",
    "\n",
    "from sklearn.model_selection import train_test_split\n",
    "X_train, X_test, y_train, y_test = train_test_split(X, y, test_size=.20, random_state=rand_state)\n",
    "X_train.head()"
   ]
  },
  {
   "cell_type": "markdown",
   "metadata": {},
   "source": [
    "- We could see that the coefficients are highly correlated with each other. We will run a linear regression and use result as benchmark"
   ]
  },
  {
   "cell_type": "code",
   "execution_count": 20,
   "metadata": {},
   "outputs": [
    {
     "data": {
      "text/plain": [
       "0.8"
      ]
     },
     "execution_count": 20,
     "metadata": {},
     "output_type": "execute_result"
    }
   ],
   "source": [
    "# We will verify if our dataframe split is accurate (80% training, 20% test):\n",
    "np.round(len(X_train)/len(X),3)\n",
    "\n",
    "# Our split shows that it was done correctly. "
   ]
  },
  {
   "cell_type": "markdown",
   "metadata": {},
   "source": [
    "Question3) As a benchmark, use sm.OLS() function from statsmodel.api package to run the linear regression model on the train set\n",
    "    1) Report the summary output?\n",
    "    2) What is R^2 of the model in train set?\n",
    "    3) Are any of the features statistically significant at 5% level?"
   ]
  },
  {
   "cell_type": "code",
   "execution_count": 22,
   "metadata": {},
   "outputs": [],
   "source": [
    "# Constructing constant as the author's packet did not include constants for dataframes:\n",
    "X_test_ncos = sm.add_constant(X_test)\n",
    "X_train_ncos = sm.add_constant(X_train)"
   ]
  },
  {
   "cell_type": "code",
   "execution_count": 23,
   "metadata": {},
   "outputs": [
    {
     "data": {
      "text/html": [
       "<table class=\"simpletable\">\n",
       "<caption>OLS Regression Results</caption>\n",
       "<tr>\n",
       "  <th>Dep. Variable:</th>          <td>wage</td>       <th>  R-squared:         </th> <td>   0.128</td>\n",
       "</tr>\n",
       "<tr>\n",
       "  <th>Model:</th>                   <td>OLS</td>       <th>  Adj. R-squared:    </th> <td>   0.116</td>\n",
       "</tr>\n",
       "<tr>\n",
       "  <th>Method:</th>             <td>Least Squares</td>  <th>  F-statistic:       </th> <td>   10.81</td>\n",
       "</tr>\n",
       "<tr>\n",
       "  <th>Date:</th>             <td>Thu, 25 Feb 2021</td> <th>  Prob (F-statistic):</th> <td>2.83e-17</td>\n",
       "</tr>\n",
       "<tr>\n",
       "  <th>Time:</th>                 <td>12:46:21</td>     <th>  Log-Likelihood:    </th> <td> -1016.0</td>\n",
       "</tr>\n",
       "<tr>\n",
       "  <th>No. Observations:</th>      <td>   748</td>      <th>  AIC:               </th> <td>   2054.</td>\n",
       "</tr>\n",
       "<tr>\n",
       "  <th>Df Residuals:</th>          <td>   737</td>      <th>  BIC:               </th> <td>   2105.</td>\n",
       "</tr>\n",
       "<tr>\n",
       "  <th>Df Model:</th>              <td>    10</td>      <th>                     </th>     <td> </td>   \n",
       "</tr>\n",
       "<tr>\n",
       "  <th>Covariance Type:</th>      <td>nonrobust</td>    <th>                     </th>     <td> </td>   \n",
       "</tr>\n",
       "</table>\n",
       "<table class=\"simpletable\">\n",
       "<tr>\n",
       "    <td></td>       <th>coef</th>     <th>std err</th>      <th>t</th>      <th>P>|t|</th>  <th>[0.025</th>    <th>0.975]</th>  \n",
       "</tr>\n",
       "<tr>\n",
       "  <th>const</th> <td>   -0.0028</td> <td>    0.035</td> <td>   -0.080</td> <td> 0.937</td> <td>   -0.071</td> <td>    0.065</td>\n",
       "</tr>\n",
       "<tr>\n",
       "  <th>educ</th>  <td> -109.9917</td> <td>  192.003</td> <td>   -0.573</td> <td> 0.567</td> <td> -486.931</td> <td>  266.947</td>\n",
       "</tr>\n",
       "<tr>\n",
       "  <th>educ2</th> <td>  462.5622</td> <td>  824.114</td> <td>    0.561</td> <td> 0.575</td> <td>-1155.328</td> <td> 2080.452</td>\n",
       "</tr>\n",
       "<tr>\n",
       "  <th>educ3</th> <td> -736.3809</td> <td> 1339.181</td> <td>   -0.550</td> <td> 0.583</td> <td>-3365.445</td> <td> 1892.684</td>\n",
       "</tr>\n",
       "<tr>\n",
       "  <th>educ4</th> <td>  527.4761</td> <td>  974.843</td> <td>    0.541</td> <td> 0.589</td> <td>-1386.323</td> <td> 2441.276</td>\n",
       "</tr>\n",
       "<tr>\n",
       "  <th>educ5</th> <td> -143.4145</td> <td>  267.848</td> <td>   -0.535</td> <td> 0.593</td> <td> -669.250</td> <td>  382.421</td>\n",
       "</tr>\n",
       "<tr>\n",
       "  <th>age</th>   <td>-1295.3370</td> <td> 4397.692</td> <td>   -0.295</td> <td> 0.768</td> <td>-9928.834</td> <td> 7338.160</td>\n",
       "</tr>\n",
       "<tr>\n",
       "  <th>age2</th>  <td> 5164.4620</td> <td> 1.79e+04</td> <td>    0.289</td> <td> 0.773</td> <td>-2.99e+04</td> <td> 4.03e+04</td>\n",
       "</tr>\n",
       "<tr>\n",
       "  <th>age3</th>  <td>-7783.0117</td> <td> 2.73e+04</td> <td>   -0.285</td> <td> 0.776</td> <td>-6.15e+04</td> <td> 4.59e+04</td>\n",
       "</tr>\n",
       "<tr>\n",
       "  <th>age4</th>  <td> 5255.0538</td> <td> 1.87e+04</td> <td>    0.282</td> <td> 0.778</td> <td>-3.14e+04</td> <td> 4.19e+04</td>\n",
       "</tr>\n",
       "<tr>\n",
       "  <th>age5</th>  <td>-1341.0610</td> <td> 4794.082</td> <td>   -0.280</td> <td> 0.780</td> <td>-1.08e+04</td> <td> 8070.622</td>\n",
       "</tr>\n",
       "</table>\n",
       "<table class=\"simpletable\">\n",
       "<tr>\n",
       "  <th>Omnibus:</th>       <td>202.208</td> <th>  Durbin-Watson:     </th> <td>   1.936</td> \n",
       "</tr>\n",
       "<tr>\n",
       "  <th>Prob(Omnibus):</th> <td> 0.000</td>  <th>  Jarque-Bera (JB):  </th> <td> 653.255</td> \n",
       "</tr>\n",
       "<tr>\n",
       "  <th>Skew:</th>          <td> 1.286</td>  <th>  Prob(JB):          </th> <td>1.40e-142</td>\n",
       "</tr>\n",
       "<tr>\n",
       "  <th>Kurtosis:</th>      <td> 6.787</td>  <th>  Cond. No.          </th> <td>2.44e+06</td> \n",
       "</tr>\n",
       "</table><br/><br/>Notes:<br/>[1] Standard Errors assume that the covariance matrix of the errors is correctly specified.<br/>[2] The condition number is large, 2.44e+06. This might indicate that there are<br/>strong multicollinearity or other numerical problems."
      ],
      "text/plain": [
       "<class 'statsmodels.iolib.summary.Summary'>\n",
       "\"\"\"\n",
       "                            OLS Regression Results                            \n",
       "==============================================================================\n",
       "Dep. Variable:                   wage   R-squared:                       0.128\n",
       "Model:                            OLS   Adj. R-squared:                  0.116\n",
       "Method:                 Least Squares   F-statistic:                     10.81\n",
       "Date:                Thu, 25 Feb 2021   Prob (F-statistic):           2.83e-17\n",
       "Time:                        12:46:21   Log-Likelihood:                -1016.0\n",
       "No. Observations:                 748   AIC:                             2054.\n",
       "Df Residuals:                     737   BIC:                             2105.\n",
       "Df Model:                          10                                         \n",
       "Covariance Type:            nonrobust                                         \n",
       "==============================================================================\n",
       "                 coef    std err          t      P>|t|      [0.025      0.975]\n",
       "------------------------------------------------------------------------------\n",
       "const         -0.0028      0.035     -0.080      0.937      -0.071       0.065\n",
       "educ        -109.9917    192.003     -0.573      0.567    -486.931     266.947\n",
       "educ2        462.5622    824.114      0.561      0.575   -1155.328    2080.452\n",
       "educ3       -736.3809   1339.181     -0.550      0.583   -3365.445    1892.684\n",
       "educ4        527.4761    974.843      0.541      0.589   -1386.323    2441.276\n",
       "educ5       -143.4145    267.848     -0.535      0.593    -669.250     382.421\n",
       "age        -1295.3370   4397.692     -0.295      0.768   -9928.834    7338.160\n",
       "age2        5164.4620   1.79e+04      0.289      0.773   -2.99e+04    4.03e+04\n",
       "age3       -7783.0117   2.73e+04     -0.285      0.776   -6.15e+04    4.59e+04\n",
       "age4        5255.0538   1.87e+04      0.282      0.778   -3.14e+04    4.19e+04\n",
       "age5       -1341.0610   4794.082     -0.280      0.780   -1.08e+04    8070.622\n",
       "==============================================================================\n",
       "Omnibus:                      202.208   Durbin-Watson:                   1.936\n",
       "Prob(Omnibus):                  0.000   Jarque-Bera (JB):              653.255\n",
       "Skew:                           1.286   Prob(JB):                    1.40e-142\n",
       "Kurtosis:                       6.787   Cond. No.                     2.44e+06\n",
       "==============================================================================\n",
       "\n",
       "Notes:\n",
       "[1] Standard Errors assume that the covariance matrix of the errors is correctly specified.\n",
       "[2] The condition number is large, 2.44e+06. This might indicate that there are\n",
       "strong multicollinearity or other numerical problems.\n",
       "\"\"\""
      ]
     },
     "execution_count": 23,
     "metadata": {},
     "output_type": "execute_result"
    }
   ],
   "source": [
    "# Training the model using the OLS method and reporting output:\n",
    "model = sm.OLS(y_train, X_train_ncos).fit()\n",
    "model.summary()"
   ]
  },
  {
   "cell_type": "markdown",
   "metadata": {},
   "source": [
    "#Reporting R^2 of the model in train set:\n",
    "\n",
    "The R^2 is approximatley 13% and the adjusted R^2 is about 12%. This is not a very high R^2 and thus our OLS model\n",
    "does an okay job at explainaing the variance in the wage"
   ]
  },
  {
   "cell_type": "markdown",
   "metadata": {},
   "source": [
    "#Reporting the statistical significance of our features:\n",
    "\n",
    "Given the high p-values of our coefficients, we none of our features are statistically significant, which would also           explain the low R squared. "
   ]
  },
  {
   "cell_type": "markdown",
   "metadata": {},
   "source": [
    "# Training the models\n"
   ]
  },
  {
   "cell_type": "markdown",
   "metadata": {},
   "source": [
    "Question4) importing the functions for Linear Regression, Ridge, Lasso and ElasticNet regression functions. "
   ]
  },
  {
   "cell_type": "code",
   "execution_count": 26,
   "metadata": {},
   "outputs": [],
   "source": [
    "from sklearn.linear_model import LinearRegression, Ridge, RidgeCV, Lasso, LassoCV, ElasticNet, ElasticNetCV"
   ]
  },
  {
   "cell_type": "code",
   "execution_count": 27,
   "metadata": {},
   "outputs": [],
   "source": [
    "#Question4, subquestion1) Train all the 4 models with the default features:\n",
    "\n",
    "model_linear = LinearRegression()\n",
    "model_ridge = Ridge()\n",
    "model_lasso = Lasso()\n",
    "model_net = ElasticNet()"
   ]
  },
  {
   "cell_type": "code",
   "execution_count": 28,
   "metadata": {},
   "outputs": [],
   "source": [
    "# Saving the predicted values for the test set for each model:\n",
    "\n",
    "y_hat_linear = model_linear.fit(X_train, y_train).predict(X_test)\n",
    "y_hat_ridge = model_ridge.fit(X_train, y_train).predict(X_test)\n",
    "y_hat_lasso = model_lasso.fit(X_train, y_train).predict(X_test)\n",
    "y_hat_net = model_net.fit(X_train, y_train).predict(X_test)"
   ]
  },
  {
   "cell_type": "code",
   "execution_count": 29,
   "metadata": {},
   "outputs": [
    {
     "data": {
      "text/html": [
       "<div>\n",
       "<style scoped>\n",
       "    .dataframe tbody tr th:only-of-type {\n",
       "        vertical-align: middle;\n",
       "    }\n",
       "\n",
       "    .dataframe tbody tr th {\n",
       "        vertical-align: top;\n",
       "    }\n",
       "\n",
       "    .dataframe thead th {\n",
       "        text-align: right;\n",
       "    }\n",
       "</style>\n",
       "<table border=\"1\" class=\"dataframe\">\n",
       "  <thead>\n",
       "    <tr style=\"text-align: right;\">\n",
       "      <th></th>\n",
       "      <th>y_test</th>\n",
       "      <th>y_hat_linear</th>\n",
       "      <th>y_hat_ridge</th>\n",
       "      <th>y_hat_lasso</th>\n",
       "      <th>y_hat_net</th>\n",
       "    </tr>\n",
       "  </thead>\n",
       "  <tbody>\n",
       "    <tr>\n",
       "      <th>434</th>\n",
       "      <td>0.042199</td>\n",
       "      <td>-0.267170</td>\n",
       "      <td>-0.202696</td>\n",
       "      <td>-0.012852</td>\n",
       "      <td>-0.012852</td>\n",
       "    </tr>\n",
       "    <tr>\n",
       "      <th>238</th>\n",
       "      <td>1.910343</td>\n",
       "      <td>0.699718</td>\n",
       "      <td>0.704007</td>\n",
       "      <td>-0.012852</td>\n",
       "      <td>-0.012852</td>\n",
       "    </tr>\n",
       "    <tr>\n",
       "      <th>531</th>\n",
       "      <td>-0.700110</td>\n",
       "      <td>-0.065042</td>\n",
       "      <td>0.045579</td>\n",
       "      <td>-0.012852</td>\n",
       "      <td>-0.012852</td>\n",
       "    </tr>\n",
       "    <tr>\n",
       "      <th>157</th>\n",
       "      <td>2.328510</td>\n",
       "      <td>0.689508</td>\n",
       "      <td>0.653410</td>\n",
       "      <td>-0.012852</td>\n",
       "      <td>-0.012852</td>\n",
       "    </tr>\n",
       "    <tr>\n",
       "      <th>601</th>\n",
       "      <td>1.341239</td>\n",
       "      <td>0.208652</td>\n",
       "      <td>0.171149</td>\n",
       "      <td>-0.012852</td>\n",
       "      <td>-0.012852</td>\n",
       "    </tr>\n",
       "  </tbody>\n",
       "</table>\n",
       "</div>"
      ],
      "text/plain": [
       "       y_test  y_hat_linear  y_hat_ridge  y_hat_lasso  y_hat_net\n",
       "434  0.042199     -0.267170    -0.202696    -0.012852  -0.012852\n",
       "238  1.910343      0.699718     0.704007    -0.012852  -0.012852\n",
       "531 -0.700110     -0.065042     0.045579    -0.012852  -0.012852\n",
       "157  2.328510      0.689508     0.653410    -0.012852  -0.012852\n",
       "601  1.341239      0.208652     0.171149    -0.012852  -0.012852"
      ]
     },
     "execution_count": 29,
     "metadata": {},
     "output_type": "execute_result"
    }
   ],
   "source": [
    "# Constructing a data farame and naming it df_predictions, then will display the predictions of each model:\n",
    "df_predictions = pd.DataFrame({'y_test':y_test,\n",
    "                               'y_hat_linear':y_hat_linear,\n",
    "                               'y_hat_ridge':y_hat_ridge,\n",
    "                               'y_hat_lasso':y_hat_lasso,\n",
    "                               'y_hat_net':y_hat_net})\n",
    "df_predictions.head()"
   ]
  },
  {
   "cell_type": "markdown",
   "metadata": {},
   "source": [
    "#Because the features were all statistically insigificant, we could see that lasso and elastic net regressions predict close to zero values and the values we see -.0128552 are just the mean of the target variable. They penalize the model for the features with statistical insigificance. We could see that this is different for the ridge and ols linear regressions. Ridge only shrinks the features coefficients and does not get rid of them. So, we see the target variable mean and the little that's left from shrinking the features' coefficients. OLS keeps the coefficients, so we see hire values for the features. There is no penalty for the inclusion of statistically insigificant variables. "
   ]
  },
  {
   "cell_type": "code",
   "execution_count": 30,
   "metadata": {},
   "outputs": [],
   "source": [
    "# Coefficients"
   ]
  },
  {
   "cell_type": "code",
   "execution_count": 31,
   "metadata": {},
   "outputs": [
    {
     "data": {
      "text/plain": [
       "Index(['educ', 'educ2', 'educ3', 'educ4', 'educ5', 'age', 'age2', 'age3',\n",
       "       'age4', 'age5'],\n",
       "      dtype='object')"
      ]
     },
     "execution_count": 31,
     "metadata": {},
     "output_type": "execute_result"
    }
   ],
   "source": [
    "# Viewing the features while the target variable is dropped:\n",
    "df_sc.drop('wage', axis=1, inplace=False).columns"
   ]
  },
  {
   "cell_type": "code",
   "execution_count": 32,
   "metadata": {},
   "outputs": [
    {
     "data": {
      "text/html": [
       "<div>\n",
       "<style scoped>\n",
       "    .dataframe tbody tr th:only-of-type {\n",
       "        vertical-align: middle;\n",
       "    }\n",
       "\n",
       "    .dataframe tbody tr th {\n",
       "        vertical-align: top;\n",
       "    }\n",
       "\n",
       "    .dataframe thead th {\n",
       "        text-align: right;\n",
       "    }\n",
       "</style>\n",
       "<table border=\"1\" class=\"dataframe\">\n",
       "  <thead>\n",
       "    <tr style=\"text-align: right;\">\n",
       "      <th></th>\n",
       "      <th>Features</th>\n",
       "      <th>model_lin</th>\n",
       "      <th>model_ridge</th>\n",
       "      <th>model_lasso</th>\n",
       "      <th>model_net</th>\n",
       "    </tr>\n",
       "  </thead>\n",
       "  <tbody>\n",
       "    <tr>\n",
       "      <th>0</th>\n",
       "      <td>educ</td>\n",
       "      <td>-109.991745</td>\n",
       "      <td>0.169172</td>\n",
       "      <td>0.0</td>\n",
       "      <td>0.0</td>\n",
       "    </tr>\n",
       "    <tr>\n",
       "      <th>1</th>\n",
       "      <td>educ2</td>\n",
       "      <td>462.562174</td>\n",
       "      <td>0.309854</td>\n",
       "      <td>0.0</td>\n",
       "      <td>0.0</td>\n",
       "    </tr>\n",
       "    <tr>\n",
       "      <th>2</th>\n",
       "      <td>educ3</td>\n",
       "      <td>-736.380870</td>\n",
       "      <td>0.232209</td>\n",
       "      <td>0.0</td>\n",
       "      <td>0.0</td>\n",
       "    </tr>\n",
       "    <tr>\n",
       "      <th>3</th>\n",
       "      <td>educ4</td>\n",
       "      <td>527.476085</td>\n",
       "      <td>-0.016857</td>\n",
       "      <td>0.0</td>\n",
       "      <td>0.0</td>\n",
       "    </tr>\n",
       "    <tr>\n",
       "      <th>4</th>\n",
       "      <td>educ5</td>\n",
       "      <td>-143.414487</td>\n",
       "      <td>-0.393124</td>\n",
       "      <td>0.0</td>\n",
       "      <td>0.0</td>\n",
       "    </tr>\n",
       "    <tr>\n",
       "      <th>5</th>\n",
       "      <td>age</td>\n",
       "      <td>-1295.337040</td>\n",
       "      <td>0.005242</td>\n",
       "      <td>0.0</td>\n",
       "      <td>0.0</td>\n",
       "    </tr>\n",
       "    <tr>\n",
       "      <th>6</th>\n",
       "      <td>age2</td>\n",
       "      <td>5164.461994</td>\n",
       "      <td>0.136966</td>\n",
       "      <td>0.0</td>\n",
       "      <td>0.0</td>\n",
       "    </tr>\n",
       "    <tr>\n",
       "      <th>7</th>\n",
       "      <td>age3</td>\n",
       "      <td>-7783.011668</td>\n",
       "      <td>0.147814</td>\n",
       "      <td>0.0</td>\n",
       "      <td>0.0</td>\n",
       "    </tr>\n",
       "    <tr>\n",
       "      <th>8</th>\n",
       "      <td>age4</td>\n",
       "      <td>5255.053781</td>\n",
       "      <td>0.043936</td>\n",
       "      <td>0.0</td>\n",
       "      <td>0.0</td>\n",
       "    </tr>\n",
       "    <tr>\n",
       "      <th>9</th>\n",
       "      <td>age5</td>\n",
       "      <td>-1341.061044</td>\n",
       "      <td>-0.166490</td>\n",
       "      <td>0.0</td>\n",
       "      <td>0.0</td>\n",
       "    </tr>\n",
       "  </tbody>\n",
       "</table>\n",
       "</div>"
      ],
      "text/plain": [
       "  Features    model_lin  model_ridge  model_lasso  model_net\n",
       "0     educ  -109.991745     0.169172          0.0        0.0\n",
       "1    educ2   462.562174     0.309854          0.0        0.0\n",
       "2    educ3  -736.380870     0.232209          0.0        0.0\n",
       "3    educ4   527.476085    -0.016857          0.0        0.0\n",
       "4    educ5  -143.414487    -0.393124          0.0        0.0\n",
       "5      age -1295.337040     0.005242          0.0        0.0\n",
       "6     age2  5164.461994     0.136966          0.0        0.0\n",
       "7     age3 -7783.011668     0.147814          0.0        0.0\n",
       "8     age4  5255.053781     0.043936          0.0        0.0\n",
       "9     age5 -1341.061044    -0.166490          0.0        0.0"
      ]
     },
     "execution_count": 32,
     "metadata": {},
     "output_type": "execute_result"
    }
   ],
   "source": [
    "# Estimating the coefficients of each model and staking them together, then assigning them a name:\n",
    "\n",
    "coefficients = pd.DataFrame({'Features':df.drop('wage', axis=1, inplace=False).columns})\n",
    "coefficients['model_lin']= model_linear.coef_\n",
    "coefficients['model_ridge']= model_ridge.coef_\n",
    "coefficients['model_lasso']= model_lasso.coef_\n",
    "coefficients['model_net']= model_net.coef_\n",
    "coefficients"
   ]
  },
  {
   "cell_type": "markdown",
   "metadata": {},
   "source": [
    "- Lasso and net penalize the model for all features, because they were are all statistically insigificant. "
   ]
  },
  {
   "cell_type": "markdown",
   "metadata": {},
   "source": [
    "# Cross Validation"
   ]
  },
  {
   "cell_type": "markdown",
   "metadata": {},
   "source": [
    "\n",
    "- Question5) Use Cross Validation to find the optimal alpha for each regression technique"
   ]
  },
  {
   "cell_type": "markdown",
   "metadata": {},
   "source": [
    "1) Optimal alpha for Ridge Regression"
   ]
  },
  {
   "cell_type": "code",
   "execution_count": 37,
   "metadata": {},
   "outputs": [
    {
     "data": {
      "text/plain": [
       "10.0"
      ]
     },
     "execution_count": 37,
     "metadata": {},
     "output_type": "execute_result"
    }
   ],
   "source": [
    "ridge_cv= RidgeCV()\n",
    "ridge_cv.fit(X_train, y_train)\n",
    "ridge_cv.alpha_"
   ]
  },
  {
   "cell_type": "code",
   "execution_count": 40,
   "metadata": {},
   "outputs": [],
   "source": [
    "alpha_ridge_opt = ridge_cv.alpha_"
   ]
  },
  {
   "cell_type": "markdown",
   "metadata": {},
   "source": [
    "2) Optimal alpha for Lasso regression"
   ]
  },
  {
   "cell_type": "code",
   "execution_count": 41,
   "metadata": {},
   "outputs": [
    {
     "name": "stderr",
     "output_type": "stream",
     "text": [
      "C:\\ProgramData\\Anaconda3\\lib\\site-packages\\sklearn\\linear_model\\_coordinate_descent.py:525: ConvergenceWarning: Objective did not converge. You might want to increase the number of iterations. Duality gap: 0.0951053471638943, tolerance: 0.06204532770253077\n",
      "  model = cd_fast.enet_coordinate_descent_gram(\n",
      "C:\\ProgramData\\Anaconda3\\lib\\site-packages\\sklearn\\linear_model\\_coordinate_descent.py:525: ConvergenceWarning: Objective did not converge. You might want to increase the number of iterations. Duality gap: 0.16159752254600335, tolerance: 0.06204532770253077\n",
      "  model = cd_fast.enet_coordinate_descent_gram(\n",
      "C:\\ProgramData\\Anaconda3\\lib\\site-packages\\sklearn\\linear_model\\_coordinate_descent.py:525: ConvergenceWarning: Objective did not converge. You might want to increase the number of iterations. Duality gap: 0.22387414093077496, tolerance: 0.06204532770253077\n",
      "  model = cd_fast.enet_coordinate_descent_gram(\n",
      "C:\\ProgramData\\Anaconda3\\lib\\site-packages\\sklearn\\linear_model\\_coordinate_descent.py:525: ConvergenceWarning: Objective did not converge. You might want to increase the number of iterations. Duality gap: 0.27818324909594594, tolerance: 0.06204532770253077\n",
      "  model = cd_fast.enet_coordinate_descent_gram(\n",
      "C:\\ProgramData\\Anaconda3\\lib\\site-packages\\sklearn\\linear_model\\_coordinate_descent.py:525: ConvergenceWarning: Objective did not converge. You might want to increase the number of iterations. Duality gap: 0.323659934579382, tolerance: 0.06204532770253077\n",
      "  model = cd_fast.enet_coordinate_descent_gram(\n",
      "C:\\ProgramData\\Anaconda3\\lib\\site-packages\\sklearn\\linear_model\\_coordinate_descent.py:525: ConvergenceWarning: Objective did not converge. You might want to increase the number of iterations. Duality gap: 0.3607577597059617, tolerance: 0.06204532770253077\n",
      "  model = cd_fast.enet_coordinate_descent_gram(\n",
      "C:\\ProgramData\\Anaconda3\\lib\\site-packages\\sklearn\\linear_model\\_coordinate_descent.py:525: ConvergenceWarning: Objective did not converge. You might want to increase the number of iterations. Duality gap: 0.3888865946431679, tolerance: 0.06204532770253077\n",
      "  model = cd_fast.enet_coordinate_descent_gram(\n",
      "C:\\ProgramData\\Anaconda3\\lib\\site-packages\\sklearn\\linear_model\\_coordinate_descent.py:525: ConvergenceWarning: Objective did not converge. You might want to increase the number of iterations. Duality gap: 0.41108135885247066, tolerance: 0.06204532770253077\n",
      "  model = cd_fast.enet_coordinate_descent_gram(\n",
      "C:\\ProgramData\\Anaconda3\\lib\\site-packages\\sklearn\\linear_model\\_coordinate_descent.py:525: ConvergenceWarning: Objective did not converge. You might want to increase the number of iterations. Duality gap: 0.42992178649296875, tolerance: 0.06204532770253077\n",
      "  model = cd_fast.enet_coordinate_descent_gram(\n",
      "C:\\ProgramData\\Anaconda3\\lib\\site-packages\\sklearn\\linear_model\\_coordinate_descent.py:525: ConvergenceWarning: Objective did not converge. You might want to increase the number of iterations. Duality gap: 0.08548698954302836, tolerance: 0.06248847531197081\n",
      "  model = cd_fast.enet_coordinate_descent_gram(\n",
      "C:\\ProgramData\\Anaconda3\\lib\\site-packages\\sklearn\\linear_model\\_coordinate_descent.py:525: ConvergenceWarning: Objective did not converge. You might want to increase the number of iterations. Duality gap: 0.14763967355008845, tolerance: 0.06248847531197081\n",
      "  model = cd_fast.enet_coordinate_descent_gram(\n",
      "C:\\ProgramData\\Anaconda3\\lib\\site-packages\\sklearn\\linear_model\\_coordinate_descent.py:525: ConvergenceWarning: Objective did not converge. You might want to increase the number of iterations. Duality gap: 0.20589279429736962, tolerance: 0.06248847531197081\n",
      "  model = cd_fast.enet_coordinate_descent_gram(\n",
      "C:\\ProgramData\\Anaconda3\\lib\\site-packages\\sklearn\\linear_model\\_coordinate_descent.py:525: ConvergenceWarning: Objective did not converge. You might want to increase the number of iterations. Duality gap: 0.2565829307634431, tolerance: 0.06248847531197081\n",
      "  model = cd_fast.enet_coordinate_descent_gram(\n",
      "C:\\ProgramData\\Anaconda3\\lib\\site-packages\\sklearn\\linear_model\\_coordinate_descent.py:525: ConvergenceWarning: Objective did not converge. You might want to increase the number of iterations. Duality gap: 0.29888072981589175, tolerance: 0.06248847531197081\n",
      "  model = cd_fast.enet_coordinate_descent_gram(\n",
      "C:\\ProgramData\\Anaconda3\\lib\\site-packages\\sklearn\\linear_model\\_coordinate_descent.py:525: ConvergenceWarning: Objective did not converge. You might want to increase the number of iterations. Duality gap: 0.3341490840358574, tolerance: 0.06248847531197081\n",
      "  model = cd_fast.enet_coordinate_descent_gram(\n",
      "C:\\ProgramData\\Anaconda3\\lib\\site-packages\\sklearn\\linear_model\\_coordinate_descent.py:525: ConvergenceWarning: Objective did not converge. You might want to increase the number of iterations. Duality gap: 0.3661481702367837, tolerance: 0.06248847531197081\n",
      "  model = cd_fast.enet_coordinate_descent_gram(\n",
      "C:\\ProgramData\\Anaconda3\\lib\\site-packages\\sklearn\\linear_model\\_coordinate_descent.py:525: ConvergenceWarning: Objective did not converge. You might want to increase the number of iterations. Duality gap: 0.19718460487217726, tolerance: 0.06248847531197081\n",
      "  model = cd_fast.enet_coordinate_descent_gram(\n",
      "C:\\ProgramData\\Anaconda3\\lib\\site-packages\\sklearn\\linear_model\\_coordinate_descent.py:525: ConvergenceWarning: Objective did not converge. You might want to increase the number of iterations. Duality gap: 0.4130230775581367, tolerance: 0.06248847531197081\n",
      "  model = cd_fast.enet_coordinate_descent_gram(\n",
      "C:\\ProgramData\\Anaconda3\\lib\\site-packages\\sklearn\\linear_model\\_coordinate_descent.py:525: ConvergenceWarning: Objective did not converge. You might want to increase the number of iterations. Duality gap: 0.7180287047772822, tolerance: 0.06248847531197081\n",
      "  model = cd_fast.enet_coordinate_descent_gram(\n",
      "C:\\ProgramData\\Anaconda3\\lib\\site-packages\\sklearn\\linear_model\\_coordinate_descent.py:525: ConvergenceWarning: Objective did not converge. You might want to increase the number of iterations. Duality gap: 1.119919578441909, tolerance: 0.06248847531197081\n",
      "  model = cd_fast.enet_coordinate_descent_gram(\n",
      "C:\\ProgramData\\Anaconda3\\lib\\site-packages\\sklearn\\linear_model\\_coordinate_descent.py:525: ConvergenceWarning: Objective did not converge. You might want to increase the number of iterations. Duality gap: 1.6265863591333982, tolerance: 0.06248847531197081\n",
      "  model = cd_fast.enet_coordinate_descent_gram(\n",
      "C:\\ProgramData\\Anaconda3\\lib\\site-packages\\sklearn\\linear_model\\_coordinate_descent.py:525: ConvergenceWarning: Objective did not converge. You might want to increase the number of iterations. Duality gap: 2.2460114212606186, tolerance: 0.06248847531197081\n",
      "  model = cd_fast.enet_coordinate_descent_gram(\n",
      "C:\\ProgramData\\Anaconda3\\lib\\site-packages\\sklearn\\linear_model\\_coordinate_descent.py:525: ConvergenceWarning: Objective did not converge. You might want to increase the number of iterations. Duality gap: 0.0678258205974771, tolerance: 0.06452160418012512\n",
      "  model = cd_fast.enet_coordinate_descent_gram(\n",
      "C:\\ProgramData\\Anaconda3\\lib\\site-packages\\sklearn\\linear_model\\_coordinate_descent.py:525: ConvergenceWarning: Objective did not converge. You might want to increase the number of iterations. Duality gap: 0.14042901851951228, tolerance: 0.06452160418012512\n",
      "  model = cd_fast.enet_coordinate_descent_gram(\n",
      "C:\\ProgramData\\Anaconda3\\lib\\site-packages\\sklearn\\linear_model\\_coordinate_descent.py:525: ConvergenceWarning: Objective did not converge. You might want to increase the number of iterations. Duality gap: 0.21565640919698126, tolerance: 0.06452160418012512\n",
      "  model = cd_fast.enet_coordinate_descent_gram(\n",
      "C:\\ProgramData\\Anaconda3\\lib\\site-packages\\sklearn\\linear_model\\_coordinate_descent.py:525: ConvergenceWarning: Objective did not converge. You might want to increase the number of iterations. Duality gap: 0.28627398691969574, tolerance: 0.06452160418012512\n",
      "  model = cd_fast.enet_coordinate_descent_gram(\n",
      "C:\\ProgramData\\Anaconda3\\lib\\site-packages\\sklearn\\linear_model\\_coordinate_descent.py:525: ConvergenceWarning: Objective did not converge. You might want to increase the number of iterations. Duality gap: 0.34916327291409743, tolerance: 0.06452160418012512\n",
      "  model = cd_fast.enet_coordinate_descent_gram(\n",
      "C:\\ProgramData\\Anaconda3\\lib\\site-packages\\sklearn\\linear_model\\_coordinate_descent.py:525: ConvergenceWarning: Objective did not converge. You might want to increase the number of iterations. Duality gap: 0.4034165469980735, tolerance: 0.06452160418012512\n",
      "  model = cd_fast.enet_coordinate_descent_gram(\n",
      "C:\\ProgramData\\Anaconda3\\lib\\site-packages\\sklearn\\linear_model\\_coordinate_descent.py:525: ConvergenceWarning: Objective did not converge. You might want to increase the number of iterations. Duality gap: 0.4492618128097092, tolerance: 0.06452160418012512\n",
      "  model = cd_fast.enet_coordinate_descent_gram(\n",
      "C:\\ProgramData\\Anaconda3\\lib\\site-packages\\sklearn\\linear_model\\_coordinate_descent.py:525: ConvergenceWarning: Objective did not converge. You might want to increase the number of iterations. Duality gap: 0.4874602988230663, tolerance: 0.06452160418012512\n",
      "  model = cd_fast.enet_coordinate_descent_gram(\n",
      "C:\\ProgramData\\Anaconda3\\lib\\site-packages\\sklearn\\linear_model\\_coordinate_descent.py:525: ConvergenceWarning: Objective did not converge. You might want to increase the number of iterations. Duality gap: 0.5189746447069865, tolerance: 0.06452160418012512\n",
      "  model = cd_fast.enet_coordinate_descent_gram(\n",
      "C:\\ProgramData\\Anaconda3\\lib\\site-packages\\sklearn\\linear_model\\_coordinate_descent.py:525: ConvergenceWarning: Objective did not converge. You might want to increase the number of iterations. Duality gap: 0.5447922519575741, tolerance: 0.06452160418012512\n",
      "  model = cd_fast.enet_coordinate_descent_gram(\n",
      "C:\\ProgramData\\Anaconda3\\lib\\site-packages\\sklearn\\linear_model\\_coordinate_descent.py:525: ConvergenceWarning: Objective did not converge. You might want to increase the number of iterations. Duality gap: 0.08829331968343013, tolerance: 0.06053190034407858\n",
      "  model = cd_fast.enet_coordinate_descent_gram(\n",
      "C:\\ProgramData\\Anaconda3\\lib\\site-packages\\sklearn\\linear_model\\_coordinate_descent.py:525: ConvergenceWarning: Objective did not converge. You might want to increase the number of iterations. Duality gap: 0.15038149301028625, tolerance: 0.06053190034407858\n",
      "  model = cd_fast.enet_coordinate_descent_gram(\n",
      "C:\\ProgramData\\Anaconda3\\lib\\site-packages\\sklearn\\linear_model\\_coordinate_descent.py:525: ConvergenceWarning: Objective did not converge. You might want to increase the number of iterations. Duality gap: 0.20844003587535553, tolerance: 0.06053190034407858\n",
      "  model = cd_fast.enet_coordinate_descent_gram(\n",
      "C:\\ProgramData\\Anaconda3\\lib\\site-packages\\sklearn\\linear_model\\_coordinate_descent.py:525: ConvergenceWarning: Objective did not converge. You might want to increase the number of iterations. Duality gap: 0.2589276657967048, tolerance: 0.06053190034407858\n",
      "  model = cd_fast.enet_coordinate_descent_gram(\n",
      "C:\\ProgramData\\Anaconda3\\lib\\site-packages\\sklearn\\linear_model\\_coordinate_descent.py:525: ConvergenceWarning: Objective did not converge. You might want to increase the number of iterations. Duality gap: 0.3010658344890089, tolerance: 0.06053190034407858\n",
      "  model = cd_fast.enet_coordinate_descent_gram(\n",
      "C:\\ProgramData\\Anaconda3\\lib\\site-packages\\sklearn\\linear_model\\_coordinate_descent.py:525: ConvergenceWarning: Objective did not converge. You might want to increase the number of iterations. Duality gap: 0.33534575597377625, tolerance: 0.06053190034407858\n",
      "  model = cd_fast.enet_coordinate_descent_gram(\n",
      "C:\\ProgramData\\Anaconda3\\lib\\site-packages\\sklearn\\linear_model\\_coordinate_descent.py:525: ConvergenceWarning: Objective did not converge. You might want to increase the number of iterations. Duality gap: 0.36276265112644523, tolerance: 0.06053190034407858\n",
      "  model = cd_fast.enet_coordinate_descent_gram(\n",
      "C:\\ProgramData\\Anaconda3\\lib\\site-packages\\sklearn\\linear_model\\_coordinate_descent.py:525: ConvergenceWarning: Objective did not converge. You might want to increase the number of iterations. Duality gap: 0.3844342156419316, tolerance: 0.06053190034407858\n",
      "  model = cd_fast.enet_coordinate_descent_gram(\n",
      "C:\\ProgramData\\Anaconda3\\lib\\site-packages\\sklearn\\linear_model\\_coordinate_descent.py:525: ConvergenceWarning: Objective did not converge. You might want to increase the number of iterations. Duality gap: 0.40142203304878876, tolerance: 0.06053190034407858\n",
      "  model = cd_fast.enet_coordinate_descent_gram(\n",
      "C:\\ProgramData\\Anaconda3\\lib\\site-packages\\sklearn\\linear_model\\_coordinate_descent.py:525: ConvergenceWarning: Objective did not converge. You might want to increase the number of iterations. Duality gap: 0.059092699435097984, tolerance: 0.054213241540790776\n",
      "  model = cd_fast.enet_coordinate_descent_gram(\n",
      "C:\\ProgramData\\Anaconda3\\lib\\site-packages\\sklearn\\linear_model\\_coordinate_descent.py:525: ConvergenceWarning: Objective did not converge. You might want to increase the number of iterations. Duality gap: 0.12129685233782084, tolerance: 0.054213241540790776\n",
      "  model = cd_fast.enet_coordinate_descent_gram(\n",
      "C:\\ProgramData\\Anaconda3\\lib\\site-packages\\sklearn\\linear_model\\_coordinate_descent.py:525: ConvergenceWarning: Objective did not converge. You might want to increase the number of iterations. Duality gap: 0.18407368728077245, tolerance: 0.054213241540790776\n",
      "  model = cd_fast.enet_coordinate_descent_gram(\n",
      "C:\\ProgramData\\Anaconda3\\lib\\site-packages\\sklearn\\linear_model\\_coordinate_descent.py:525: ConvergenceWarning: Objective did not converge. You might want to increase the number of iterations. Duality gap: 0.2417601459573575, tolerance: 0.054213241540790776\n",
      "  model = cd_fast.enet_coordinate_descent_gram(\n",
      "C:\\ProgramData\\Anaconda3\\lib\\site-packages\\sklearn\\linear_model\\_coordinate_descent.py:525: ConvergenceWarning: Objective did not converge. You might want to increase the number of iterations. Duality gap: 0.11115264889457421, tolerance: 0.054213241540790776\n",
      "  model = cd_fast.enet_coordinate_descent_gram(\n",
      "C:\\ProgramData\\Anaconda3\\lib\\site-packages\\sklearn\\linear_model\\_coordinate_descent.py:525: ConvergenceWarning: Objective did not converge. You might want to increase the number of iterations. Duality gap: 0.3889827374771926, tolerance: 0.054213241540790776\n",
      "  model = cd_fast.enet_coordinate_descent_gram(\n",
      "C:\\ProgramData\\Anaconda3\\lib\\site-packages\\sklearn\\linear_model\\_coordinate_descent.py:525: ConvergenceWarning: Objective did not converge. You might want to increase the number of iterations. Duality gap: 0.7963061643102378, tolerance: 0.054213241540790776\n",
      "  model = cd_fast.enet_coordinate_descent_gram(\n",
      "C:\\ProgramData\\Anaconda3\\lib\\site-packages\\sklearn\\linear_model\\_coordinate_descent.py:525: ConvergenceWarning: Objective did not converge. You might want to increase the number of iterations. Duality gap: 1.3037263060434725, tolerance: 0.054213241540790776\n",
      "  model = cd_fast.enet_coordinate_descent_gram(\n",
      "C:\\ProgramData\\Anaconda3\\lib\\site-packages\\sklearn\\linear_model\\_coordinate_descent.py:525: ConvergenceWarning: Objective did not converge. You might want to increase the number of iterations. Duality gap: 1.887727843429559, tolerance: 0.054213241540790776\n",
      "  model = cd_fast.enet_coordinate_descent_gram(\n",
      "C:\\ProgramData\\Anaconda3\\lib\\site-packages\\sklearn\\linear_model\\_coordinate_descent.py:525: ConvergenceWarning: Objective did not converge. You might want to increase the number of iterations. Duality gap: 2.52943390748419, tolerance: 0.054213241540790776\n",
      "  model = cd_fast.enet_coordinate_descent_gram(\n",
      "C:\\ProgramData\\Anaconda3\\lib\\site-packages\\sklearn\\linear_model\\_coordinate_descent.py:525: ConvergenceWarning: Objective did not converge. You might want to increase the number of iterations. Duality gap: 3.205817134594156, tolerance: 0.054213241540790776\n",
      "  model = cd_fast.enet_coordinate_descent_gram(\n",
      "C:\\ProgramData\\Anaconda3\\lib\\site-packages\\sklearn\\linear_model\\_coordinate_descent.py:525: ConvergenceWarning: Objective did not converge. You might want to increase the number of iterations. Duality gap: 4.088238584570092, tolerance: 0.054213241540790776\n",
      "  model = cd_fast.enet_coordinate_descent_gram(\n",
      "C:\\ProgramData\\Anaconda3\\lib\\site-packages\\sklearn\\linear_model\\_coordinate_descent.py:525: ConvergenceWarning: Objective did not converge. You might want to increase the number of iterations. Duality gap: 5.028344059461119, tolerance: 0.054213241540790776\n",
      "  model = cd_fast.enet_coordinate_descent_gram(\n"
     ]
    },
    {
     "data": {
      "text/plain": [
       "0.010732138475800224"
      ]
     },
     "execution_count": 41,
     "metadata": {},
     "output_type": "execute_result"
    }
   ],
   "source": [
    "lasso_cv = LassoCV()\n",
    "lasso_cv.fit(X_train, y_train)\n",
    "lasso_cv.alpha_"
   ]
  },
  {
   "cell_type": "code",
   "execution_count": 39,
   "metadata": {},
   "outputs": [],
   "source": [
    "alpha_lasso_opt = lasso_cv.alpha_"
   ]
  },
  {
   "cell_type": "markdown",
   "metadata": {},
   "source": [
    "3) Optimal alpha for Elastic Net regression"
   ]
  },
  {
   "cell_type": "code",
   "execution_count": 43,
   "metadata": {},
   "outputs": [
    {
     "name": "stderr",
     "output_type": "stream",
     "text": [
      "C:\\ProgramData\\Anaconda3\\lib\\site-packages\\sklearn\\linear_model\\_coordinate_descent.py:525: ConvergenceWarning: Objective did not converge. You might want to increase the number of iterations. Duality gap: 0.13030236469467127, tolerance: 0.06204532770253077\n",
      "  model = cd_fast.enet_coordinate_descent_gram(\n",
      "C:\\ProgramData\\Anaconda3\\lib\\site-packages\\sklearn\\linear_model\\_coordinate_descent.py:525: ConvergenceWarning: Objective did not converge. You might want to increase the number of iterations. Duality gap: 0.23122915544263378, tolerance: 0.06204532770253077\n",
      "  model = cd_fast.enet_coordinate_descent_gram(\n",
      "C:\\ProgramData\\Anaconda3\\lib\\site-packages\\sklearn\\linear_model\\_coordinate_descent.py:525: ConvergenceWarning: Objective did not converge. You might want to increase the number of iterations. Duality gap: 0.29221864809210274, tolerance: 0.06204532770253077\n",
      "  model = cd_fast.enet_coordinate_descent_gram(\n",
      "C:\\ProgramData\\Anaconda3\\lib\\site-packages\\sklearn\\linear_model\\_coordinate_descent.py:525: ConvergenceWarning: Objective did not converge. You might want to increase the number of iterations. Duality gap: 0.0922788809037911, tolerance: 0.06248847531197081\n",
      "  model = cd_fast.enet_coordinate_descent_gram(\n",
      "C:\\ProgramData\\Anaconda3\\lib\\site-packages\\sklearn\\linear_model\\_coordinate_descent.py:525: ConvergenceWarning: Objective did not converge. You might want to increase the number of iterations. Duality gap: 0.17691769066993857, tolerance: 0.06248847531197081\n",
      "  model = cd_fast.enet_coordinate_descent_gram(\n",
      "C:\\ProgramData\\Anaconda3\\lib\\site-packages\\sklearn\\linear_model\\_coordinate_descent.py:525: ConvergenceWarning: Objective did not converge. You might want to increase the number of iterations. Duality gap: 0.2246243310527234, tolerance: 0.06248847531197081\n",
      "  model = cd_fast.enet_coordinate_descent_gram(\n",
      "C:\\ProgramData\\Anaconda3\\lib\\site-packages\\sklearn\\linear_model\\_coordinate_descent.py:525: ConvergenceWarning: Objective did not converge. You might want to increase the number of iterations. Duality gap: 0.2634509744799516, tolerance: 0.06248847531197081\n",
      "  model = cd_fast.enet_coordinate_descent_gram(\n",
      "C:\\ProgramData\\Anaconda3\\lib\\site-packages\\sklearn\\linear_model\\_coordinate_descent.py:525: ConvergenceWarning: Objective did not converge. You might want to increase the number of iterations. Duality gap: 0.15061568824546612, tolerance: 0.06452160418012512\n",
      "  model = cd_fast.enet_coordinate_descent_gram(\n",
      "C:\\ProgramData\\Anaconda3\\lib\\site-packages\\sklearn\\linear_model\\_coordinate_descent.py:525: ConvergenceWarning: Objective did not converge. You might want to increase the number of iterations. Duality gap: 0.2446633994095464, tolerance: 0.06452160418012512\n",
      "  model = cd_fast.enet_coordinate_descent_gram(\n",
      "C:\\ProgramData\\Anaconda3\\lib\\site-packages\\sklearn\\linear_model\\_coordinate_descent.py:525: ConvergenceWarning: Objective did not converge. You might want to increase the number of iterations. Duality gap: 0.3040531497082384, tolerance: 0.06452160418012512\n",
      "  model = cd_fast.enet_coordinate_descent_gram(\n",
      "C:\\ProgramData\\Anaconda3\\lib\\site-packages\\sklearn\\linear_model\\_coordinate_descent.py:525: ConvergenceWarning: Objective did not converge. You might want to increase the number of iterations. Duality gap: 0.3541391034600565, tolerance: 0.06452160418012512\n",
      "  model = cd_fast.enet_coordinate_descent_gram(\n",
      "C:\\ProgramData\\Anaconda3\\lib\\site-packages\\sklearn\\linear_model\\_coordinate_descent.py:525: ConvergenceWarning: Objective did not converge. You might want to increase the number of iterations. Duality gap: 0.06547716335307996, tolerance: 0.054213241540790776\n",
      "  model = cd_fast.enet_coordinate_descent_gram(\n",
      "C:\\ProgramData\\Anaconda3\\lib\\site-packages\\sklearn\\linear_model\\_coordinate_descent.py:525: ConvergenceWarning: Objective did not converge. You might want to increase the number of iterations. Duality gap: 0.07463285424427113, tolerance: 0.054213241540790776\n",
      "  model = cd_fast.enet_coordinate_descent_gram(\n",
      "C:\\ProgramData\\Anaconda3\\lib\\site-packages\\sklearn\\linear_model\\_coordinate_descent.py:525: ConvergenceWarning: Objective did not converge. You might want to increase the number of iterations. Duality gap: 0.09172404018926272, tolerance: 0.054213241540790776\n",
      "  model = cd_fast.enet_coordinate_descent_gram(\n",
      "C:\\ProgramData\\Anaconda3\\lib\\site-packages\\sklearn\\linear_model\\_coordinate_descent.py:525: ConvergenceWarning: Objective did not converge. You might want to increase the number of iterations. Duality gap: 0.11563496883911739, tolerance: 0.054213241540790776\n",
      "  model = cd_fast.enet_coordinate_descent_gram(\n",
      "C:\\ProgramData\\Anaconda3\\lib\\site-packages\\sklearn\\linear_model\\_coordinate_descent.py:525: ConvergenceWarning: Objective did not converge. You might want to increase the number of iterations. Duality gap: 0.06205040105430726, tolerance: 0.054213241540790776\n",
      "  model = cd_fast.enet_coordinate_descent_gram(\n",
      "C:\\ProgramData\\Anaconda3\\lib\\site-packages\\sklearn\\linear_model\\_coordinate_descent.py:525: ConvergenceWarning: Objective did not converge. You might want to increase the number of iterations. Duality gap: 0.0777093323777649, tolerance: 0.054213241540790776\n",
      "  model = cd_fast.enet_coordinate_descent_gram(\n",
      "C:\\ProgramData\\Anaconda3\\lib\\site-packages\\sklearn\\linear_model\\_coordinate_descent.py:525: ConvergenceWarning: Objective did not converge. You might want to increase the number of iterations. Duality gap: 0.10001303304977682, tolerance: 0.054213241540790776\n",
      "  model = cd_fast.enet_coordinate_descent_gram(\n",
      "C:\\ProgramData\\Anaconda3\\lib\\site-packages\\sklearn\\linear_model\\_coordinate_descent.py:525: ConvergenceWarning: Objective did not converge. You might want to increase the number of iterations. Duality gap: 0.12962961983123478, tolerance: 0.054213241540790776\n",
      "  model = cd_fast.enet_coordinate_descent_gram(\n",
      "C:\\ProgramData\\Anaconda3\\lib\\site-packages\\sklearn\\linear_model\\_coordinate_descent.py:525: ConvergenceWarning: Objective did not converge. You might want to increase the number of iterations. Duality gap: 0.16803900311100506, tolerance: 0.054213241540790776\n",
      "  model = cd_fast.enet_coordinate_descent_gram(\n",
      "C:\\ProgramData\\Anaconda3\\lib\\site-packages\\sklearn\\linear_model\\_coordinate_descent.py:525: ConvergenceWarning: Objective did not converge. You might want to increase the number of iterations. Duality gap: 0.21727881099053548, tolerance: 0.054213241540790776\n",
      "  model = cd_fast.enet_coordinate_descent_gram(\n"
     ]
    },
    {
     "data": {
      "text/plain": [
       "0.010682821217946607"
      ]
     },
     "execution_count": 43,
     "metadata": {},
     "output_type": "execute_result"
    }
   ],
   "source": [
    "elasticnetcv = ElasticNetCV()\n",
    "elasticnetcv.fit(X_train, y_train)\n",
    "elasticnetcv.alpha_"
   ]
  },
  {
   "cell_type": "code",
   "execution_count": 44,
   "metadata": {},
   "outputs": [
    {
     "data": {
      "text/plain": [
       "0.5"
      ]
     },
     "execution_count": 44,
     "metadata": {},
     "output_type": "execute_result"
    }
   ],
   "source": [
    "elasticnetcv.l1_ratio_"
   ]
  },
  {
   "cell_type": "code",
   "execution_count": 45,
   "metadata": {},
   "outputs": [],
   "source": [
    "alpha_elasticnet_opt = elasticnetcv.alpha_"
   ]
  },
  {
   "cell_type": "markdown",
   "metadata": {},
   "source": [
    "Question6) Now, we will go back to part 4, then refit the models using the optimal alphas we computed above from cross validation"
   ]
  },
  {
   "cell_type": "code",
   "execution_count": 47,
   "metadata": {},
   "outputs": [],
   "source": [
    "# Plugging in the optial alphas into the models:\n",
    "\n",
    "model_linear = LinearRegression()\n",
    "model_ridge = Ridge(10.0)\n",
    "model_lasso = Lasso(0.010732138475800224)\n",
    "model_net = ElasticNet(0.010682821217946607)"
   ]
  },
  {
   "cell_type": "code",
   "execution_count": 48,
   "metadata": {},
   "outputs": [],
   "source": [
    "# Saving the predicted values for the test set for each model and seeing the effect with new optimal alphas:\n",
    "\n",
    "y_hat_linear = model_linear.fit(X_train, y_train).predict(X_test)\n",
    "y_hat_ridge = model_ridge.fit(X_train, y_train).predict(X_test)\n",
    "y_hat_lasso = model_lasso.fit(X_train, y_train).predict(X_test)\n",
    "y_hat_net = model_net.fit(X_train, y_train).predict(X_test)"
   ]
  },
  {
   "cell_type": "code",
   "execution_count": 49,
   "metadata": {},
   "outputs": [
    {
     "data": {
      "text/html": [
       "<div>\n",
       "<style scoped>\n",
       "    .dataframe tbody tr th:only-of-type {\n",
       "        vertical-align: middle;\n",
       "    }\n",
       "\n",
       "    .dataframe tbody tr th {\n",
       "        vertical-align: top;\n",
       "    }\n",
       "\n",
       "    .dataframe thead th {\n",
       "        text-align: right;\n",
       "    }\n",
       "</style>\n",
       "<table border=\"1\" class=\"dataframe\">\n",
       "  <thead>\n",
       "    <tr style=\"text-align: right;\">\n",
       "      <th></th>\n",
       "      <th>y_test</th>\n",
       "      <th>y_hat_linear</th>\n",
       "      <th>y_hat_ridge</th>\n",
       "      <th>y_hat_lasso</th>\n",
       "      <th>y_hat_net</th>\n",
       "    </tr>\n",
       "  </thead>\n",
       "  <tbody>\n",
       "    <tr>\n",
       "      <th>434</th>\n",
       "      <td>0.042199</td>\n",
       "      <td>-0.267170</td>\n",
       "      <td>-0.207593</td>\n",
       "      <td>-0.213254</td>\n",
       "      <td>-0.214806</td>\n",
       "    </tr>\n",
       "    <tr>\n",
       "      <th>238</th>\n",
       "      <td>1.910343</td>\n",
       "      <td>0.699718</td>\n",
       "      <td>0.755765</td>\n",
       "      <td>0.808387</td>\n",
       "      <td>0.809270</td>\n",
       "    </tr>\n",
       "    <tr>\n",
       "      <th>531</th>\n",
       "      <td>-0.700110</td>\n",
       "      <td>-0.065042</td>\n",
       "      <td>0.052495</td>\n",
       "      <td>0.023871</td>\n",
       "      <td>0.037489</td>\n",
       "    </tr>\n",
       "    <tr>\n",
       "      <th>157</th>\n",
       "      <td>2.328510</td>\n",
       "      <td>0.689508</td>\n",
       "      <td>0.700613</td>\n",
       "      <td>0.761422</td>\n",
       "      <td>0.757606</td>\n",
       "    </tr>\n",
       "    <tr>\n",
       "      <th>601</th>\n",
       "      <td>1.341239</td>\n",
       "      <td>0.208652</td>\n",
       "      <td>0.165839</td>\n",
       "      <td>0.155527</td>\n",
       "      <td>0.158446</td>\n",
       "    </tr>\n",
       "  </tbody>\n",
       "</table>\n",
       "</div>"
      ],
      "text/plain": [
       "       y_test  y_hat_linear  y_hat_ridge  y_hat_lasso  y_hat_net\n",
       "434  0.042199     -0.267170    -0.207593    -0.213254  -0.214806\n",
       "238  1.910343      0.699718     0.755765     0.808387   0.809270\n",
       "531 -0.700110     -0.065042     0.052495     0.023871   0.037489\n",
       "157  2.328510      0.689508     0.700613     0.761422   0.757606\n",
       "601  1.341239      0.208652     0.165839     0.155527   0.158446"
      ]
     },
     "execution_count": 49,
     "metadata": {},
     "output_type": "execute_result"
    }
   ],
   "source": [
    "df_predictions_optimal = pd.DataFrame({'y_test':y_test,\n",
    "                               'y_hat_linear':y_hat_linear,\n",
    "                               'y_hat_ridge':y_hat_ridge,\n",
    "                               'y_hat_lasso':y_hat_lasso,\n",
    "                               'y_hat_net':y_hat_net})\n",
    "df_predictions_optimal.head()"
   ]
  },
  {
   "cell_type": "markdown",
   "metadata": {},
   "source": [
    "# Performance in the test set\n"
   ]
  },
  {
   "cell_type": "markdown",
   "metadata": {},
   "source": [
    "Question7) Report the RMSE of the test set for all four models, rank models based on their performance. Were you able to beat the simple linear model. What does this mean?"
   ]
  },
  {
   "cell_type": "code",
   "execution_count": 52,
   "metadata": {},
   "outputs": [
    {
     "data": {
      "text/plain": [
       "0.865"
      ]
     },
     "execution_count": 52,
     "metadata": {},
     "output_type": "execute_result"
    }
   ],
   "source": [
    "MSE_test = np.mean(np.square(df_predictions_optimal['y_test'] - df_predictions_optimal['y_hat_linear']))\n",
    "RMSE_test = np.sqrt(MSE_test)\n",
    "np.round(RMSE_test,3)"
   ]
  },
  {
   "cell_type": "code",
   "execution_count": 53,
   "metadata": {},
   "outputs": [
    {
     "data": {
      "text/plain": [
       "0.867"
      ]
     },
     "execution_count": 53,
     "metadata": {},
     "output_type": "execute_result"
    }
   ],
   "source": [
    "MSE_test = np.mean(np.square(df_predictions_optimal['y_test'] - df_predictions_optimal['y_hat_ridge']))\n",
    "RMSE_test = np.sqrt(MSE_test)\n",
    "np.round(RMSE_test,3)"
   ]
  },
  {
   "cell_type": "code",
   "execution_count": 54,
   "metadata": {},
   "outputs": [
    {
     "data": {
      "text/plain": [
       "0.868"
      ]
     },
     "execution_count": 54,
     "metadata": {},
     "output_type": "execute_result"
    }
   ],
   "source": [
    "MSE_test = np.mean(np.square(df_predictions_optimal['y_test'] - df_predictions_optimal['y_hat_lasso']))\n",
    "RMSE_test = np.sqrt(MSE_test)\n",
    "np.round(RMSE_test,3)"
   ]
  },
  {
   "cell_type": "code",
   "execution_count": 55,
   "metadata": {},
   "outputs": [
    {
     "data": {
      "text/plain": [
       "0.868"
      ]
     },
     "execution_count": 55,
     "metadata": {},
     "output_type": "execute_result"
    }
   ],
   "source": [
    "MSE_test = np.mean(np.square(df_predictions_optimal['y_test'] - df_predictions_optimal['y_hat_net']))\n",
    "RMSE_test = np.sqrt(MSE_test)\n",
    "np.round(RMSE_test,3)"
   ]
  },
  {
   "cell_type": "markdown",
   "metadata": {},
   "source": [
    "#the RMSE of all our models are very, very close now after we plugged in the optimal alpha we got from our regressions. We would not say that we beat the simple linear model, because they are extremely close. We could fairly say they are about the same. We could understand why Lasso and ElasticNet have higher RMSE, because they are penalizing the features in our regression model. They were all statistically insigificant. "
   ]
  },
  {
   "cell_type": "markdown",
   "metadata": {},
   "source": [
    "# Plotting the coefficients vs alphas for each of the penalized models:"
   ]
  },
  {
   "cell_type": "code",
   "execution_count": 56,
   "metadata": {},
   "outputs": [
    {
     "data": {
      "image/png": "[encoded data removed]",
      "text/plain": [
       "<Figure size 864x360 with 1 Axes>"
      ]
     },
     "metadata": {},
     "output_type": "display_data"
    }
   ],
   "source": [
    "alpha_ridge = 10**np.linspace(-4,2,100)\n",
    "plt.figure(figsize=(12,5))\n",
    "plt.plot(alpha_ridge,'or' )\n",
    "plt.xlabel('steps')\n",
    "plt.ylabel('alpha (lambda)')\n",
    "plt.show()"
   ]
  },
  {
   "cell_type": "code",
   "execution_count": null,
   "metadata": {},
   "outputs": [],
   "source": []
  }
 ],
 "metadata": {
  "kernelspec": {
   "display_name": "Python 3",
   "language": "python",
   "name": "python3"
  },
  "language_info": {
   "codemirror_mode": {
    "name": "ipython",
    "version": 3
   },
   "file_extension": ".py",
   "mimetype": "text/x-python",
   "name": "python",
   "nbconvert_exporter": "python",
   "pygments_lexer": "ipython3",
   "version": "3.8.5"
  }
 },
 "nbformat": 4,
 "nbformat_minor": 4
}
